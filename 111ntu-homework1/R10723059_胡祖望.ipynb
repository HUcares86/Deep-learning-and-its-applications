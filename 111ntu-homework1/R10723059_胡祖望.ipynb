{
  "nbformat": 4,
  "nbformat_minor": 0,
  "metadata": {
    "colab": {
      "provenance": []
    },
    "kernelspec": {
      "name": "python3",
      "display_name": "Python 3"
    },
    "language_info": {
      "name": "python"
    }
  },
  "cells": [
    {
      "cell_type": "markdown",
      "source": [
        "## import "
      ],
      "metadata": {
        "id": "BcZwtqWYe5tb"
      }
    },
    {
      "cell_type": "code",
      "execution_count": 1,
      "metadata": {
        "id": "LUrOTc6IbFPm"
      },
      "outputs": [],
      "source": [
        "import torch\n",
        "import torchvision\n",
        "import numpy as np\n",
        "import matplotlib\n",
        "import matplotlib.pyplot as plt\n",
        "import torch.nn as nn\n",
        "import torch.nn.functional as F\n",
        "\n",
        "from torch.utils.data.dataloader import DataLoader\n",
        "from torch.utils.data import random_split\n",
        "import pandas as pd\n",
        "from torch.utils.data.sampler import SubsetRandomSampler\n",
        "from torch.utils.data import Dataset\n",
        "import torch\n",
        "import torch.nn as nn\n",
        "import numpy as np\n",
        "from torch.optim import optimizer\n",
        "from sklearn import datasets\n",
        "import matplotlib.pyplot as plt"
      ]
    },
    {
      "cell_type": "markdown",
      "source": [
        "## read csv and input normalization"
      ],
      "metadata": {
        "id": "3BZv-zlTe_4M"
      }
    },
    {
      "cell_type": "code",
      "source": [
        "df = pd.read_csv(\"/content/drive/MyDrive/code/python/projects/ADL/ADL_(IM5062)/111ntu-homework1/training_data.csv\")"
      ],
      "metadata": {
        "id": "LDPtS26obSQT"
      },
      "execution_count": 2,
      "outputs": []
    },
    {
      "cell_type": "code",
      "source": [
        "#df"
      ],
      "metadata": {
        "id": "AE5pU7VIbSS3"
      },
      "execution_count": 3,
      "outputs": []
    },
    {
      "cell_type": "code",
      "source": [
        "df['AMB_TEMP'].mean()"
      ],
      "metadata": {
        "colab": {
          "base_uri": "https://localhost:8080/"
        },
        "id": "ER5Sb_EQcKJP",
        "outputId": "40a3481c-ff9e-42f2-b2de-9d0bd50b358f"
      },
      "execution_count": 4,
      "outputs": [
        {
          "output_type": "execute_result",
          "data": {
            "text/plain": [
              "25.256894353369763"
            ]
          },
          "metadata": {},
          "execution_count": 4
        }
      ]
    },
    {
      "cell_type": "code",
      "source": [
        "AMB_TEMP_mean = df['AMB_TEMP'].mean()\n",
        "CH4_mean = df['CH4'].mean()\n",
        "CO_mean = df['CO'].mean()\n",
        "NMHC_mean = df['NMHC'].mean()\n",
        "NO_mean = df['NO'].mean()\n",
        "NO2_mean = df['NO2'].mean()\n",
        "NOx_mean = df['NOx'].mean()\n",
        "PM10_mean = df['PM10'].mean()\n",
        "RH_mean = df['RH'].mean()\n",
        "SO2_mean = df['SO2'].mean()\n",
        "PM2_5_mean = df['PM2.5'].mean()\n",
        "\n",
        "# std\n",
        "AMB_TEMP_std = df['AMB_TEMP'].std()\n",
        "CH4_std = df['CH4'].std()\n",
        "CO_std = df['CO'].std()\n",
        "NMHC_std = df['NMHC'].std()\n",
        "NO_std = df['NO'].std()\n",
        "NO2_std = df['NO2'].std()\n",
        "NOx_std = df['NOx'].std()\n",
        "PM10_std = df['PM10'].std()\n",
        "RH_std = df['RH'].std()\n",
        "SO2_std = df['SO2'].std()\n",
        "PM2_5_std = df['PM2.5'].std()"
      ],
      "metadata": {
        "id": "o5MV2rLAkWWX"
      },
      "execution_count": 5,
      "outputs": []
    },
    {
      "cell_type": "code",
      "source": [
        "df['AMB_TEMP'] = (df['AMB_TEMP'] -AMB_TEMP_mean)/AMB_TEMP_std\n",
        "df['CH4'] = (df['CH4'] -CH4_mean)/CH4_std\n",
        "df['CO'] = (df['CO'] -CO_mean)/CO_std\n",
        "df['NMHC'] = (df['NMHC'] -NMHC_mean)/NMHC_std\n",
        "df['NO'] = (df['NO'] -NO_mean)/NO_std\n",
        "df['NO2'] = (df['NO2'] -NO2_mean)/NO2_std\n",
        "df['NOx'] = (df['NOx'] -NOx_mean)/NOx_std\n",
        "df['PM10'] = (df['PM10'] -PM10_mean)/PM10_std\n",
        "df['RH'] = (df['RH'] -RH_mean)/RH_std\n",
        "df['SO2'] = (df['SO2'] -SO2_mean)/SO2_std\n",
        "df['PM2.5'] = (df['PM2.5'] -PM2_5_mean)/PM2_5_std"
      ],
      "metadata": {
        "id": "VeHS8KqLsR6P"
      },
      "execution_count": 6,
      "outputs": []
    },
    {
      "cell_type": "code",
      "source": [
        "target = df['PM2.5'] "
      ],
      "metadata": {
        "id": "vhcJW7ZttQrl"
      },
      "execution_count": 7,
      "outputs": []
    },
    {
      "cell_type": "code",
      "source": [
        "target = torch.tensor(target.to_numpy().astype(np.float32))\n",
        "target = target.view(target.shape[0], 1)"
      ],
      "metadata": {
        "id": "wi8mO6m3tQuo"
      },
      "execution_count": 8,
      "outputs": []
    },
    {
      "cell_type": "code",
      "source": [
        "#target"
      ],
      "metadata": {
        "id": "YYl0dYbbttAy"
      },
      "execution_count": 9,
      "outputs": []
    },
    {
      "cell_type": "code",
      "source": [
        "df=df.drop(columns=['PM2.5'])"
      ],
      "metadata": {
        "id": "Nmt4DfdtuHUv"
      },
      "execution_count": 10,
      "outputs": []
    },
    {
      "cell_type": "code",
      "source": [
        "#df"
      ],
      "metadata": {
        "id": "LqlhzJMBuHXg"
      },
      "execution_count": 11,
      "outputs": []
    },
    {
      "cell_type": "code",
      "source": [
        "feature = torch.from_numpy(df.to_numpy().astype(np.float32))"
      ],
      "metadata": {
        "id": "fYiW_ehiuHZ8"
      },
      "execution_count": 12,
      "outputs": []
    },
    {
      "cell_type": "code",
      "source": [
        "#feature "
      ],
      "metadata": {
        "id": "309BJS4kuHcj"
      },
      "execution_count": 13,
      "outputs": []
    },
    {
      "cell_type": "code",
      "source": [
        "df1 = pd.read_csv(\"/content/drive/MyDrive/code/python/projects/ADL/ADL_(IM5062)/111ntu-homework1/testing_data.csv\")"
      ],
      "metadata": {
        "id": "dP7_R7VP4EX_"
      },
      "execution_count": 14,
      "outputs": []
    },
    {
      "cell_type": "code",
      "source": [
        "#df1"
      ],
      "metadata": {
        "id": "iT9zkXH24Ea5"
      },
      "execution_count": 15,
      "outputs": []
    },
    {
      "cell_type": "code",
      "source": [
        "df1['AMB_TEMP'] = (df1['AMB_TEMP'] -AMB_TEMP_mean)/AMB_TEMP_std\n",
        "df1['CH4'] = (df1['CH4'] -CH4_mean)/CH4_std\n",
        "df1['CO'] = (df1['CO'] -CO_mean)/CO_std\n",
        "df1['NMHC'] = (df1['NMHC'] -NMHC_mean)/NMHC_std\n",
        "df1['NO'] = (df1['NO'] -NO_mean)/NO_std\n",
        "df1['NO2'] = (df1['NO2'] -NO2_mean)/NO2_std\n",
        "df1['NOx'] = (df1['NOx'] -NOx_mean)/NOx_std\n",
        "df1['PM10'] = (df1['PM10'] -PM10_mean)/PM10_std\n",
        "df1['RH'] = (df1['RH'] -RH_mean)/RH_std\n",
        "df1['SO2'] = (df1['SO2'] -SO2_mean)/SO2_std\n"
      ],
      "metadata": {
        "id": "xx3IYyNy4Ed1"
      },
      "execution_count": 16,
      "outputs": []
    },
    {
      "cell_type": "code",
      "source": [
        "#df1"
      ],
      "metadata": {
        "id": "6YeRYzqU4Egr"
      },
      "execution_count": 17,
      "outputs": []
    },
    {
      "cell_type": "code",
      "source": [
        "testing = torch.from_numpy(df1.to_numpy().astype(np.float32))"
      ],
      "metadata": {
        "id": "Ijt1R80k4Eje"
      },
      "execution_count": 18,
      "outputs": []
    },
    {
      "cell_type": "code",
      "source": [
        "#testing"
      ],
      "metadata": {
        "id": "r003QSvy56Ec"
      },
      "execution_count": 19,
      "outputs": []
    },
    {
      "cell_type": "markdown",
      "source": [
        "## Model"
      ],
      "metadata": {
        "id": "CyCA0Y74fVMx"
      }
    },
    {
      "cell_type": "code",
      "source": [
        "n_samples, n_features = feature.shape\n",
        "\n",
        "# 1) model\n",
        "class LinearRegression(nn.Module):\n",
        "    \n",
        "    def __init__(self, input_dim, hidden_size1, hidden_size2, hidden_size3, hidden_size4, hidden_size5, hidden_size6,output_dim):\n",
        "        #\n",
        "        super(LinearRegression, self).__init__()\n",
        "        \n",
        "        # define layers\n",
        "        self.linear1 = nn.Linear(input_dim, hidden_size1)\n",
        "        self.linear2 = nn.Linear(hidden_size1, hidden_size2)\n",
        "        self.linear3 = nn.Linear(hidden_size2, hidden_size3)\n",
        "        self.linear4 = nn.Linear(hidden_size3, hidden_size4)\n",
        "        self.linear5 = nn.Linear(hidden_size4, hidden_size5)\n",
        "        self.linear6 = nn.Linear(hidden_size5, hidden_size6)\n",
        "        self.linear7 = nn.Linear(hidden_size6, output_dim)\n",
        "\n",
        "    def forward(self, x):\n",
        "        out = self.linear1(x)\n",
        "        out = F.relu(out)\n",
        "\n",
        "        out = self.linear2(out)\n",
        "        out = F.relu(out)\n",
        "\n",
        "        out = self.linear3(out)\n",
        "        out = F.relu(out)\n",
        "\n",
        "        out = self.linear4(out)\n",
        "        out = F.relu(out)\n",
        "\n",
        "        out = self.linear5(out)\n",
        "        out = F.relu(out)\n",
        "\n",
        "        out = self.linear6(out)\n",
        "        out = F.relu(out)\n",
        "\n",
        "        out = self.linear7(out)\n",
        "\n",
        "        return out"
      ],
      "metadata": {
        "id": "pwtPyI27uHfJ"
      },
      "execution_count": 20,
      "outputs": []
    },
    {
      "cell_type": "markdown",
      "source": [
        "## loss and optimizer"
      ],
      "metadata": {
        "id": "Ff4CFBRyfhoy"
      }
    },
    {
      "cell_type": "code",
      "source": [
        "model = LinearRegression(n_features, 64, 64, 64 ,64, 64, 64, 1)\n",
        "\n",
        "# 2) loss and optimizer\n",
        "learning_rate = 0.005\n",
        "criterion = nn.MSELoss()\n",
        "optimizer = torch.optim.SGD(model.parameters(), lr=learning_rate)\n"
      ],
      "metadata": {
        "id": "2ipPN1t9PuXW"
      },
      "execution_count": 21,
      "outputs": []
    },
    {
      "cell_type": "markdown",
      "source": [
        "## training and mini batch"
      ],
      "metadata": {
        "id": "FfCxKXVGmYou"
      }
    },
    {
      "cell_type": "code",
      "source": [
        "# 3) training loop\n",
        "epochs = 100\n",
        "batch_size = 24\n",
        "history = []\n",
        "for epoch in range(epochs):\n",
        "  for i in range(int(len(feature)/batch_size)):\n",
        "      # forward pass and loss\n",
        "      y_predicted = model(feature[24*i:24*(i+1)])\n",
        "      loss = criterion(y_predicted, target[24*i:24*(i+1)])\n",
        "\n",
        "      # backward pass\n",
        "      loss.backward()\n",
        "\n",
        "      # update\n",
        "      optimizer.step()\n",
        "      \n",
        "      # init optimizer\n",
        "      optimizer.zero_grad()\n",
        "\n",
        "  if (epoch + 1) % 10 == 0:\n",
        "        print(f'epoch: {epoch+1}, loss = {loss.item(): .4f}')\n",
        "\n",
        "# show in image\n",
        "predicted = model(feature).detach().numpy()\n",
        "plt.show()\n"
      ],
      "metadata": {
        "colab": {
          "base_uri": "https://localhost:8080/"
        },
        "id": "GfzeAmh8PxuJ",
        "outputId": "07821751-5013-4c9c-9ede-e46e0cb2d761"
      },
      "execution_count": 22,
      "outputs": [
        {
          "output_type": "stream",
          "name": "stdout",
          "text": [
            "epoch: 10, loss =  0.4105\n",
            "epoch: 20, loss =  0.3964\n",
            "epoch: 30, loss =  0.3066\n",
            "epoch: 40, loss =  0.2614\n",
            "epoch: 50, loss =  0.2441\n",
            "epoch: 60, loss =  0.2419\n",
            "epoch: 70, loss =  0.2471\n",
            "epoch: 80, loss =  0.2460\n",
            "epoch: 90, loss =  0.2403\n",
            "epoch: 100, loss =  0.2329\n"
          ]
        }
      ]
    },
    {
      "cell_type": "markdown",
      "source": [
        "## save model"
      ],
      "metadata": {
        "id": "4zK78X-7muhx"
      }
    },
    {
      "cell_type": "code",
      "source": [
        "FILE = 'hw1_2.pt'"
      ],
      "metadata": {
        "id": "euPzaDAoROV3"
      },
      "execution_count": 39,
      "outputs": []
    },
    {
      "cell_type": "code",
      "source": [
        "torch.save(model, FILE)"
      ],
      "metadata": {
        "id": "l7WRqelkuHiL"
      },
      "execution_count": 40,
      "outputs": []
    },
    {
      "cell_type": "markdown",
      "source": [
        "## testing "
      ],
      "metadata": {
        "id": "Zy5DzDaVmzAP"
      }
    },
    {
      "cell_type": "code",
      "source": [
        "ans = torch.empty(len(testing))\n",
        "for i in range(len(testing)):\n",
        "  yb = model(testing[i])\n",
        "  # print(i,yb)\n",
        "  yb = yb*PM2_5_std +PM2_5_mean\n",
        "  # print(i,yb)\n",
        "  ans[i] = yb\n",
        "  # print(ans)\n",
        "  # print(\"-------------------\")"
      ],
      "metadata": {
        "id": "tFwegAsPT7Er"
      },
      "execution_count": 25,
      "outputs": []
    },
    {
      "cell_type": "code",
      "source": [
        "ans"
      ],
      "metadata": {
        "colab": {
          "base_uri": "https://localhost:8080/"
        },
        "id": "X2kED0tKVkBw",
        "outputId": "b45635c9-5ad2-47b9-b4d5-2107f7446c08"
      },
      "execution_count": 26,
      "outputs": [
        {
          "output_type": "execute_result",
          "data": {
            "text/plain": [
              "tensor([38.3823, 44.8486, 41.5342,  ..., 79.1463, 69.0482, 60.5117],\n",
              "       grad_fn=<CopySlices>)"
            ]
          },
          "metadata": {},
          "execution_count": 26
        }
      ]
    },
    {
      "cell_type": "markdown",
      "source": [
        "## output to csv"
      ],
      "metadata": {
        "id": "EGms8zNbm3Bg"
      }
    },
    {
      "cell_type": "code",
      "source": [
        "import pandas as pd\n",
        "import os.path\n",
        "ans_np = ans.detach().numpy() #convert to Numpy array\n",
        "df = pd.DataFrame(ans_np) #convert to a dataframe\n"
      ],
      "metadata": {
        "id": "WL1RkQxFWP68"
      },
      "execution_count": 27,
      "outputs": []
    },
    {
      "cell_type": "code",
      "source": [
        "df "
      ],
      "metadata": {
        "colab": {
          "base_uri": "https://localhost:8080/",
          "height": 424
        },
        "id": "ATDsitriaXG3",
        "outputId": "25ef6c2d-48e3-473c-e0ad-3b3e4c4b4885"
      },
      "execution_count": 28,
      "outputs": [
        {
          "output_type": "execute_result",
          "data": {
            "text/plain": [
              "               0\n",
              "0      38.382313\n",
              "1      44.848629\n",
              "2      41.534180\n",
              "3      41.262936\n",
              "4      26.242069\n",
              "...          ...\n",
              "8755  125.441010\n",
              "8756  101.070251\n",
              "8757   79.146294\n",
              "8758   69.048218\n",
              "8759   60.511688\n",
              "\n",
              "[8760 rows x 1 columns]"
            ],
            "text/html": [
              "\n",
              "  <div id=\"df-609a7a04-c789-44b3-87a6-6e1df770e884\">\n",
              "    <div class=\"colab-df-container\">\n",
              "      <div>\n",
              "<style scoped>\n",
              "    .dataframe tbody tr th:only-of-type {\n",
              "        vertical-align: middle;\n",
              "    }\n",
              "\n",
              "    .dataframe tbody tr th {\n",
              "        vertical-align: top;\n",
              "    }\n",
              "\n",
              "    .dataframe thead th {\n",
              "        text-align: right;\n",
              "    }\n",
              "</style>\n",
              "<table border=\"1\" class=\"dataframe\">\n",
              "  <thead>\n",
              "    <tr style=\"text-align: right;\">\n",
              "      <th></th>\n",
              "      <th>0</th>\n",
              "    </tr>\n",
              "  </thead>\n",
              "  <tbody>\n",
              "    <tr>\n",
              "      <th>0</th>\n",
              "      <td>38.382313</td>\n",
              "    </tr>\n",
              "    <tr>\n",
              "      <th>1</th>\n",
              "      <td>44.848629</td>\n",
              "    </tr>\n",
              "    <tr>\n",
              "      <th>2</th>\n",
              "      <td>41.534180</td>\n",
              "    </tr>\n",
              "    <tr>\n",
              "      <th>3</th>\n",
              "      <td>41.262936</td>\n",
              "    </tr>\n",
              "    <tr>\n",
              "      <th>4</th>\n",
              "      <td>26.242069</td>\n",
              "    </tr>\n",
              "    <tr>\n",
              "      <th>...</th>\n",
              "      <td>...</td>\n",
              "    </tr>\n",
              "    <tr>\n",
              "      <th>8755</th>\n",
              "      <td>125.441010</td>\n",
              "    </tr>\n",
              "    <tr>\n",
              "      <th>8756</th>\n",
              "      <td>101.070251</td>\n",
              "    </tr>\n",
              "    <tr>\n",
              "      <th>8757</th>\n",
              "      <td>79.146294</td>\n",
              "    </tr>\n",
              "    <tr>\n",
              "      <th>8758</th>\n",
              "      <td>69.048218</td>\n",
              "    </tr>\n",
              "    <tr>\n",
              "      <th>8759</th>\n",
              "      <td>60.511688</td>\n",
              "    </tr>\n",
              "  </tbody>\n",
              "</table>\n",
              "<p>8760 rows × 1 columns</p>\n",
              "</div>\n",
              "      <button class=\"colab-df-convert\" onclick=\"convertToInteractive('df-609a7a04-c789-44b3-87a6-6e1df770e884')\"\n",
              "              title=\"Convert this dataframe to an interactive table.\"\n",
              "              style=\"display:none;\">\n",
              "        \n",
              "  <svg xmlns=\"http://www.w3.org/2000/svg\" height=\"24px\"viewBox=\"0 0 24 24\"\n",
              "       width=\"24px\">\n",
              "    <path d=\"M0 0h24v24H0V0z\" fill=\"none\"/>\n",
              "    <path d=\"M18.56 5.44l.94 2.06.94-2.06 2.06-.94-2.06-.94-.94-2.06-.94 2.06-2.06.94zm-11 1L8.5 8.5l.94-2.06 2.06-.94-2.06-.94L8.5 2.5l-.94 2.06-2.06.94zm10 10l.94 2.06.94-2.06 2.06-.94-2.06-.94-.94-2.06-.94 2.06-2.06.94z\"/><path d=\"M17.41 7.96l-1.37-1.37c-.4-.4-.92-.59-1.43-.59-.52 0-1.04.2-1.43.59L10.3 9.45l-7.72 7.72c-.78.78-.78 2.05 0 2.83L4 21.41c.39.39.9.59 1.41.59.51 0 1.02-.2 1.41-.59l7.78-7.78 2.81-2.81c.8-.78.8-2.07 0-2.86zM5.41 20L4 18.59l7.72-7.72 1.47 1.35L5.41 20z\"/>\n",
              "  </svg>\n",
              "      </button>\n",
              "      \n",
              "  <style>\n",
              "    .colab-df-container {\n",
              "      display:flex;\n",
              "      flex-wrap:wrap;\n",
              "      gap: 12px;\n",
              "    }\n",
              "\n",
              "    .colab-df-convert {\n",
              "      background-color: #E8F0FE;\n",
              "      border: none;\n",
              "      border-radius: 50%;\n",
              "      cursor: pointer;\n",
              "      display: none;\n",
              "      fill: #1967D2;\n",
              "      height: 32px;\n",
              "      padding: 0 0 0 0;\n",
              "      width: 32px;\n",
              "    }\n",
              "\n",
              "    .colab-df-convert:hover {\n",
              "      background-color: #E2EBFA;\n",
              "      box-shadow: 0px 1px 2px rgba(60, 64, 67, 0.3), 0px 1px 3px 1px rgba(60, 64, 67, 0.15);\n",
              "      fill: #174EA6;\n",
              "    }\n",
              "\n",
              "    [theme=dark] .colab-df-convert {\n",
              "      background-color: #3B4455;\n",
              "      fill: #D2E3FC;\n",
              "    }\n",
              "\n",
              "    [theme=dark] .colab-df-convert:hover {\n",
              "      background-color: #434B5C;\n",
              "      box-shadow: 0px 1px 3px 1px rgba(0, 0, 0, 0.15);\n",
              "      filter: drop-shadow(0px 1px 2px rgba(0, 0, 0, 0.3));\n",
              "      fill: #FFFFFF;\n",
              "    }\n",
              "  </style>\n",
              "\n",
              "      <script>\n",
              "        const buttonEl =\n",
              "          document.querySelector('#df-609a7a04-c789-44b3-87a6-6e1df770e884 button.colab-df-convert');\n",
              "        buttonEl.style.display =\n",
              "          google.colab.kernel.accessAllowed ? 'block' : 'none';\n",
              "\n",
              "        async function convertToInteractive(key) {\n",
              "          const element = document.querySelector('#df-609a7a04-c789-44b3-87a6-6e1df770e884');\n",
              "          const dataTable =\n",
              "            await google.colab.kernel.invokeFunction('convertToInteractive',\n",
              "                                                     [key], {});\n",
              "          if (!dataTable) return;\n",
              "\n",
              "          const docLinkHtml = 'Like what you see? Visit the ' +\n",
              "            '<a target=\"_blank\" href=https://colab.research.google.com/notebooks/data_table.ipynb>data table notebook</a>'\n",
              "            + ' to learn more about interactive tables.';\n",
              "          element.innerHTML = '';\n",
              "          dataTable['output_type'] = 'display_data';\n",
              "          await google.colab.output.renderOutput(dataTable, element);\n",
              "          const docLink = document.createElement('div');\n",
              "          docLink.innerHTML = docLinkHtml;\n",
              "          element.appendChild(docLink);\n",
              "        }\n",
              "      </script>\n",
              "    </div>\n",
              "  </div>\n",
              "  "
            ]
          },
          "metadata": {},
          "execution_count": 28
        }
      ]
    },
    {
      "cell_type": "code",
      "source": [
        "df.rename(columns = {0:'PM2.5'}, inplace = True)\n",
        "df.to_csv(os.path.join('/content/drive/MyDrive/code/python/projects/ADL/ADL_(IM5062)/111ntu-homework1','ans')) #save to file\n",
        "#df.rename(columns = {:'INDEX'}, inplace = True)\n"
      ],
      "metadata": {
        "id": "ef06rEAeaTys"
      },
      "execution_count": 29,
      "outputs": []
    },
    {
      "cell_type": "code",
      "source": [
        "df3 = pd.read_csv('/content/drive/MyDrive/code/python/projects/ADL/ADL_(IM5062)/111ntu-homework1/ans')"
      ],
      "metadata": {
        "id": "i3Q1eXErWP-Y"
      },
      "execution_count": 30,
      "outputs": []
    },
    {
      "cell_type": "code",
      "source": [
        "df3"
      ],
      "metadata": {
        "colab": {
          "base_uri": "https://localhost:8080/",
          "height": 424
        },
        "id": "OXOhmsftXjxD",
        "outputId": "4a296dc1-9efc-4165-89d8-3ff8be766ce3"
      },
      "execution_count": 31,
      "outputs": [
        {
          "output_type": "execute_result",
          "data": {
            "text/plain": [
              "      Unnamed: 0       PM2.5\n",
              "0              0   38.382313\n",
              "1              1   44.848630\n",
              "2              2   41.534180\n",
              "3              3   41.262936\n",
              "4              4   26.242070\n",
              "...          ...         ...\n",
              "8755        8755  125.441010\n",
              "8756        8756  101.070250\n",
              "8757        8757   79.146290\n",
              "8758        8758   69.048220\n",
              "8759        8759   60.511690\n",
              "\n",
              "[8760 rows x 2 columns]"
            ],
            "text/html": [
              "\n",
              "  <div id=\"df-eb2d45de-8453-4277-b47c-8bd5c14a893b\">\n",
              "    <div class=\"colab-df-container\">\n",
              "      <div>\n",
              "<style scoped>\n",
              "    .dataframe tbody tr th:only-of-type {\n",
              "        vertical-align: middle;\n",
              "    }\n",
              "\n",
              "    .dataframe tbody tr th {\n",
              "        vertical-align: top;\n",
              "    }\n",
              "\n",
              "    .dataframe thead th {\n",
              "        text-align: right;\n",
              "    }\n",
              "</style>\n",
              "<table border=\"1\" class=\"dataframe\">\n",
              "  <thead>\n",
              "    <tr style=\"text-align: right;\">\n",
              "      <th></th>\n",
              "      <th>Unnamed: 0</th>\n",
              "      <th>PM2.5</th>\n",
              "    </tr>\n",
              "  </thead>\n",
              "  <tbody>\n",
              "    <tr>\n",
              "      <th>0</th>\n",
              "      <td>0</td>\n",
              "      <td>38.382313</td>\n",
              "    </tr>\n",
              "    <tr>\n",
              "      <th>1</th>\n",
              "      <td>1</td>\n",
              "      <td>44.848630</td>\n",
              "    </tr>\n",
              "    <tr>\n",
              "      <th>2</th>\n",
              "      <td>2</td>\n",
              "      <td>41.534180</td>\n",
              "    </tr>\n",
              "    <tr>\n",
              "      <th>3</th>\n",
              "      <td>3</td>\n",
              "      <td>41.262936</td>\n",
              "    </tr>\n",
              "    <tr>\n",
              "      <th>4</th>\n",
              "      <td>4</td>\n",
              "      <td>26.242070</td>\n",
              "    </tr>\n",
              "    <tr>\n",
              "      <th>...</th>\n",
              "      <td>...</td>\n",
              "      <td>...</td>\n",
              "    </tr>\n",
              "    <tr>\n",
              "      <th>8755</th>\n",
              "      <td>8755</td>\n",
              "      <td>125.441010</td>\n",
              "    </tr>\n",
              "    <tr>\n",
              "      <th>8756</th>\n",
              "      <td>8756</td>\n",
              "      <td>101.070250</td>\n",
              "    </tr>\n",
              "    <tr>\n",
              "      <th>8757</th>\n",
              "      <td>8757</td>\n",
              "      <td>79.146290</td>\n",
              "    </tr>\n",
              "    <tr>\n",
              "      <th>8758</th>\n",
              "      <td>8758</td>\n",
              "      <td>69.048220</td>\n",
              "    </tr>\n",
              "    <tr>\n",
              "      <th>8759</th>\n",
              "      <td>8759</td>\n",
              "      <td>60.511690</td>\n",
              "    </tr>\n",
              "  </tbody>\n",
              "</table>\n",
              "<p>8760 rows × 2 columns</p>\n",
              "</div>\n",
              "      <button class=\"colab-df-convert\" onclick=\"convertToInteractive('df-eb2d45de-8453-4277-b47c-8bd5c14a893b')\"\n",
              "              title=\"Convert this dataframe to an interactive table.\"\n",
              "              style=\"display:none;\">\n",
              "        \n",
              "  <svg xmlns=\"http://www.w3.org/2000/svg\" height=\"24px\"viewBox=\"0 0 24 24\"\n",
              "       width=\"24px\">\n",
              "    <path d=\"M0 0h24v24H0V0z\" fill=\"none\"/>\n",
              "    <path d=\"M18.56 5.44l.94 2.06.94-2.06 2.06-.94-2.06-.94-.94-2.06-.94 2.06-2.06.94zm-11 1L8.5 8.5l.94-2.06 2.06-.94-2.06-.94L8.5 2.5l-.94 2.06-2.06.94zm10 10l.94 2.06.94-2.06 2.06-.94-2.06-.94-.94-2.06-.94 2.06-2.06.94z\"/><path d=\"M17.41 7.96l-1.37-1.37c-.4-.4-.92-.59-1.43-.59-.52 0-1.04.2-1.43.59L10.3 9.45l-7.72 7.72c-.78.78-.78 2.05 0 2.83L4 21.41c.39.39.9.59 1.41.59.51 0 1.02-.2 1.41-.59l7.78-7.78 2.81-2.81c.8-.78.8-2.07 0-2.86zM5.41 20L4 18.59l7.72-7.72 1.47 1.35L5.41 20z\"/>\n",
              "  </svg>\n",
              "      </button>\n",
              "      \n",
              "  <style>\n",
              "    .colab-df-container {\n",
              "      display:flex;\n",
              "      flex-wrap:wrap;\n",
              "      gap: 12px;\n",
              "    }\n",
              "\n",
              "    .colab-df-convert {\n",
              "      background-color: #E8F0FE;\n",
              "      border: none;\n",
              "      border-radius: 50%;\n",
              "      cursor: pointer;\n",
              "      display: none;\n",
              "      fill: #1967D2;\n",
              "      height: 32px;\n",
              "      padding: 0 0 0 0;\n",
              "      width: 32px;\n",
              "    }\n",
              "\n",
              "    .colab-df-convert:hover {\n",
              "      background-color: #E2EBFA;\n",
              "      box-shadow: 0px 1px 2px rgba(60, 64, 67, 0.3), 0px 1px 3px 1px rgba(60, 64, 67, 0.15);\n",
              "      fill: #174EA6;\n",
              "    }\n",
              "\n",
              "    [theme=dark] .colab-df-convert {\n",
              "      background-color: #3B4455;\n",
              "      fill: #D2E3FC;\n",
              "    }\n",
              "\n",
              "    [theme=dark] .colab-df-convert:hover {\n",
              "      background-color: #434B5C;\n",
              "      box-shadow: 0px 1px 3px 1px rgba(0, 0, 0, 0.15);\n",
              "      filter: drop-shadow(0px 1px 2px rgba(0, 0, 0, 0.3));\n",
              "      fill: #FFFFFF;\n",
              "    }\n",
              "  </style>\n",
              "\n",
              "      <script>\n",
              "        const buttonEl =\n",
              "          document.querySelector('#df-eb2d45de-8453-4277-b47c-8bd5c14a893b button.colab-df-convert');\n",
              "        buttonEl.style.display =\n",
              "          google.colab.kernel.accessAllowed ? 'block' : 'none';\n",
              "\n",
              "        async function convertToInteractive(key) {\n",
              "          const element = document.querySelector('#df-eb2d45de-8453-4277-b47c-8bd5c14a893b');\n",
              "          const dataTable =\n",
              "            await google.colab.kernel.invokeFunction('convertToInteractive',\n",
              "                                                     [key], {});\n",
              "          if (!dataTable) return;\n",
              "\n",
              "          const docLinkHtml = 'Like what you see? Visit the ' +\n",
              "            '<a target=\"_blank\" href=https://colab.research.google.com/notebooks/data_table.ipynb>data table notebook</a>'\n",
              "            + ' to learn more about interactive tables.';\n",
              "          element.innerHTML = '';\n",
              "          dataTable['output_type'] = 'display_data';\n",
              "          await google.colab.output.renderOutput(dataTable, element);\n",
              "          const docLink = document.createElement('div');\n",
              "          docLink.innerHTML = docLinkHtml;\n",
              "          element.appendChild(docLink);\n",
              "        }\n",
              "      </script>\n",
              "    </div>\n",
              "  </div>\n",
              "  "
            ]
          },
          "metadata": {},
          "execution_count": 31
        }
      ]
    },
    {
      "cell_type": "code",
      "source": [
        "df3.rename(columns = {'Unnamed: 0':'INDEX'}, inplace = True)"
      ],
      "metadata": {
        "id": "Y3-gzsgzaj9j"
      },
      "execution_count": 32,
      "outputs": []
    },
    {
      "cell_type": "code",
      "source": [
        "df3['INDEX'] = df3['INDEX']+1"
      ],
      "metadata": {
        "id": "OwJbXrAUapPz"
      },
      "execution_count": 33,
      "outputs": []
    },
    {
      "cell_type": "code",
      "source": [
        "df3"
      ],
      "metadata": {
        "colab": {
          "base_uri": "https://localhost:8080/",
          "height": 424
        },
        "id": "yYVRRkKKbPei",
        "outputId": "0f5242a2-0fcf-4cc6-923f-ad519800dedb"
      },
      "execution_count": 51,
      "outputs": [
        {
          "output_type": "execute_result",
          "data": {
            "text/plain": [
              "      INDEX       PM2.5\n",
              "0         1   34.483185\n",
              "1         2   41.091053\n",
              "2         3   39.481915\n",
              "3         4   37.335037\n",
              "4         5   23.296951\n",
              "...     ...         ...\n",
              "8755   8756  116.732610\n",
              "8756   8757   98.204190\n",
              "8757   8758   85.338400\n",
              "8758   8759   73.706696\n",
              "8759   8760   62.284637\n",
              "\n",
              "[8760 rows x 2 columns]"
            ],
            "text/html": [
              "\n",
              "  <div id=\"df-7d0a5e8a-0fde-4f62-8a15-e450f8928c38\">\n",
              "    <div class=\"colab-df-container\">\n",
              "      <div>\n",
              "<style scoped>\n",
              "    .dataframe tbody tr th:only-of-type {\n",
              "        vertical-align: middle;\n",
              "    }\n",
              "\n",
              "    .dataframe tbody tr th {\n",
              "        vertical-align: top;\n",
              "    }\n",
              "\n",
              "    .dataframe thead th {\n",
              "        text-align: right;\n",
              "    }\n",
              "</style>\n",
              "<table border=\"1\" class=\"dataframe\">\n",
              "  <thead>\n",
              "    <tr style=\"text-align: right;\">\n",
              "      <th></th>\n",
              "      <th>INDEX</th>\n",
              "      <th>PM2.5</th>\n",
              "    </tr>\n",
              "  </thead>\n",
              "  <tbody>\n",
              "    <tr>\n",
              "      <th>0</th>\n",
              "      <td>1</td>\n",
              "      <td>34.483185</td>\n",
              "    </tr>\n",
              "    <tr>\n",
              "      <th>1</th>\n",
              "      <td>2</td>\n",
              "      <td>41.091053</td>\n",
              "    </tr>\n",
              "    <tr>\n",
              "      <th>2</th>\n",
              "      <td>3</td>\n",
              "      <td>39.481915</td>\n",
              "    </tr>\n",
              "    <tr>\n",
              "      <th>3</th>\n",
              "      <td>4</td>\n",
              "      <td>37.335037</td>\n",
              "    </tr>\n",
              "    <tr>\n",
              "      <th>4</th>\n",
              "      <td>5</td>\n",
              "      <td>23.296951</td>\n",
              "    </tr>\n",
              "    <tr>\n",
              "      <th>...</th>\n",
              "      <td>...</td>\n",
              "      <td>...</td>\n",
              "    </tr>\n",
              "    <tr>\n",
              "      <th>8755</th>\n",
              "      <td>8756</td>\n",
              "      <td>116.732610</td>\n",
              "    </tr>\n",
              "    <tr>\n",
              "      <th>8756</th>\n",
              "      <td>8757</td>\n",
              "      <td>98.204190</td>\n",
              "    </tr>\n",
              "    <tr>\n",
              "      <th>8757</th>\n",
              "      <td>8758</td>\n",
              "      <td>85.338400</td>\n",
              "    </tr>\n",
              "    <tr>\n",
              "      <th>8758</th>\n",
              "      <td>8759</td>\n",
              "      <td>73.706696</td>\n",
              "    </tr>\n",
              "    <tr>\n",
              "      <th>8759</th>\n",
              "      <td>8760</td>\n",
              "      <td>62.284637</td>\n",
              "    </tr>\n",
              "  </tbody>\n",
              "</table>\n",
              "<p>8760 rows × 2 columns</p>\n",
              "</div>\n",
              "      <button class=\"colab-df-convert\" onclick=\"convertToInteractive('df-7d0a5e8a-0fde-4f62-8a15-e450f8928c38')\"\n",
              "              title=\"Convert this dataframe to an interactive table.\"\n",
              "              style=\"display:none;\">\n",
              "        \n",
              "  <svg xmlns=\"http://www.w3.org/2000/svg\" height=\"24px\"viewBox=\"0 0 24 24\"\n",
              "       width=\"24px\">\n",
              "    <path d=\"M0 0h24v24H0V0z\" fill=\"none\"/>\n",
              "    <path d=\"M18.56 5.44l.94 2.06.94-2.06 2.06-.94-2.06-.94-.94-2.06-.94 2.06-2.06.94zm-11 1L8.5 8.5l.94-2.06 2.06-.94-2.06-.94L8.5 2.5l-.94 2.06-2.06.94zm10 10l.94 2.06.94-2.06 2.06-.94-2.06-.94-.94-2.06-.94 2.06-2.06.94z\"/><path d=\"M17.41 7.96l-1.37-1.37c-.4-.4-.92-.59-1.43-.59-.52 0-1.04.2-1.43.59L10.3 9.45l-7.72 7.72c-.78.78-.78 2.05 0 2.83L4 21.41c.39.39.9.59 1.41.59.51 0 1.02-.2 1.41-.59l7.78-7.78 2.81-2.81c.8-.78.8-2.07 0-2.86zM5.41 20L4 18.59l7.72-7.72 1.47 1.35L5.41 20z\"/>\n",
              "  </svg>\n",
              "      </button>\n",
              "      \n",
              "  <style>\n",
              "    .colab-df-container {\n",
              "      display:flex;\n",
              "      flex-wrap:wrap;\n",
              "      gap: 12px;\n",
              "    }\n",
              "\n",
              "    .colab-df-convert {\n",
              "      background-color: #E8F0FE;\n",
              "      border: none;\n",
              "      border-radius: 50%;\n",
              "      cursor: pointer;\n",
              "      display: none;\n",
              "      fill: #1967D2;\n",
              "      height: 32px;\n",
              "      padding: 0 0 0 0;\n",
              "      width: 32px;\n",
              "    }\n",
              "\n",
              "    .colab-df-convert:hover {\n",
              "      background-color: #E2EBFA;\n",
              "      box-shadow: 0px 1px 2px rgba(60, 64, 67, 0.3), 0px 1px 3px 1px rgba(60, 64, 67, 0.15);\n",
              "      fill: #174EA6;\n",
              "    }\n",
              "\n",
              "    [theme=dark] .colab-df-convert {\n",
              "      background-color: #3B4455;\n",
              "      fill: #D2E3FC;\n",
              "    }\n",
              "\n",
              "    [theme=dark] .colab-df-convert:hover {\n",
              "      background-color: #434B5C;\n",
              "      box-shadow: 0px 1px 3px 1px rgba(0, 0, 0, 0.15);\n",
              "      filter: drop-shadow(0px 1px 2px rgba(0, 0, 0, 0.3));\n",
              "      fill: #FFFFFF;\n",
              "    }\n",
              "  </style>\n",
              "\n",
              "      <script>\n",
              "        const buttonEl =\n",
              "          document.querySelector('#df-7d0a5e8a-0fde-4f62-8a15-e450f8928c38 button.colab-df-convert');\n",
              "        buttonEl.style.display =\n",
              "          google.colab.kernel.accessAllowed ? 'block' : 'none';\n",
              "\n",
              "        async function convertToInteractive(key) {\n",
              "          const element = document.querySelector('#df-7d0a5e8a-0fde-4f62-8a15-e450f8928c38');\n",
              "          const dataTable =\n",
              "            await google.colab.kernel.invokeFunction('convertToInteractive',\n",
              "                                                     [key], {});\n",
              "          if (!dataTable) return;\n",
              "\n",
              "          const docLinkHtml = 'Like what you see? Visit the ' +\n",
              "            '<a target=\"_blank\" href=https://colab.research.google.com/notebooks/data_table.ipynb>data table notebook</a>'\n",
              "            + ' to learn more about interactive tables.';\n",
              "          element.innerHTML = '';\n",
              "          dataTable['output_type'] = 'display_data';\n",
              "          await google.colab.output.renderOutput(dataTable, element);\n",
              "          const docLink = document.createElement('div');\n",
              "          docLink.innerHTML = docLinkHtml;\n",
              "          element.appendChild(docLink);\n",
              "        }\n",
              "      </script>\n",
              "    </div>\n",
              "  </div>\n",
              "  "
            ]
          },
          "metadata": {},
          "execution_count": 51
        }
      ]
    },
    {
      "cell_type": "code",
      "source": [
        "df3.to_csv(os.path.join('/content/drive/MyDrive/code/python/projects/ADL/ADL_(IM5062)/111ntu-homework1','ans'),index=False) #save to file"
      ],
      "metadata": {
        "id": "k5T33W2tapSN"
      },
      "execution_count": 34,
      "outputs": []
    },
    {
      "cell_type": "code",
      "source": [
        "df4 = pd.read_csv('/content/drive/MyDrive/code/python/projects/ADL/ADL_(IM5062)/111ntu-homework1/ans')"
      ],
      "metadata": {
        "id": "iT407pzGayt1"
      },
      "execution_count": 35,
      "outputs": []
    },
    {
      "cell_type": "code",
      "source": [
        "df4 "
      ],
      "metadata": {
        "colab": {
          "base_uri": "https://localhost:8080/",
          "height": 424
        },
        "id": "Z1Hp9z4Oayw7",
        "outputId": "4776a875-1147-4047-f519-c8a3545e42b6"
      },
      "execution_count": 36,
      "outputs": [
        {
          "output_type": "execute_result",
          "data": {
            "text/plain": [
              "      INDEX       PM2.5\n",
              "0         1   38.382313\n",
              "1         2   44.848630\n",
              "2         3   41.534180\n",
              "3         4   41.262936\n",
              "4         5   26.242070\n",
              "...     ...         ...\n",
              "8755   8756  125.441010\n",
              "8756   8757  101.070250\n",
              "8757   8758   79.146290\n",
              "8758   8759   69.048220\n",
              "8759   8760   60.511690\n",
              "\n",
              "[8760 rows x 2 columns]"
            ],
            "text/html": [
              "\n",
              "  <div id=\"df-a89176d8-28b1-4064-b2e4-675af6640333\">\n",
              "    <div class=\"colab-df-container\">\n",
              "      <div>\n",
              "<style scoped>\n",
              "    .dataframe tbody tr th:only-of-type {\n",
              "        vertical-align: middle;\n",
              "    }\n",
              "\n",
              "    .dataframe tbody tr th {\n",
              "        vertical-align: top;\n",
              "    }\n",
              "\n",
              "    .dataframe thead th {\n",
              "        text-align: right;\n",
              "    }\n",
              "</style>\n",
              "<table border=\"1\" class=\"dataframe\">\n",
              "  <thead>\n",
              "    <tr style=\"text-align: right;\">\n",
              "      <th></th>\n",
              "      <th>INDEX</th>\n",
              "      <th>PM2.5</th>\n",
              "    </tr>\n",
              "  </thead>\n",
              "  <tbody>\n",
              "    <tr>\n",
              "      <th>0</th>\n",
              "      <td>1</td>\n",
              "      <td>38.382313</td>\n",
              "    </tr>\n",
              "    <tr>\n",
              "      <th>1</th>\n",
              "      <td>2</td>\n",
              "      <td>44.848630</td>\n",
              "    </tr>\n",
              "    <tr>\n",
              "      <th>2</th>\n",
              "      <td>3</td>\n",
              "      <td>41.534180</td>\n",
              "    </tr>\n",
              "    <tr>\n",
              "      <th>3</th>\n",
              "      <td>4</td>\n",
              "      <td>41.262936</td>\n",
              "    </tr>\n",
              "    <tr>\n",
              "      <th>4</th>\n",
              "      <td>5</td>\n",
              "      <td>26.242070</td>\n",
              "    </tr>\n",
              "    <tr>\n",
              "      <th>...</th>\n",
              "      <td>...</td>\n",
              "      <td>...</td>\n",
              "    </tr>\n",
              "    <tr>\n",
              "      <th>8755</th>\n",
              "      <td>8756</td>\n",
              "      <td>125.441010</td>\n",
              "    </tr>\n",
              "    <tr>\n",
              "      <th>8756</th>\n",
              "      <td>8757</td>\n",
              "      <td>101.070250</td>\n",
              "    </tr>\n",
              "    <tr>\n",
              "      <th>8757</th>\n",
              "      <td>8758</td>\n",
              "      <td>79.146290</td>\n",
              "    </tr>\n",
              "    <tr>\n",
              "      <th>8758</th>\n",
              "      <td>8759</td>\n",
              "      <td>69.048220</td>\n",
              "    </tr>\n",
              "    <tr>\n",
              "      <th>8759</th>\n",
              "      <td>8760</td>\n",
              "      <td>60.511690</td>\n",
              "    </tr>\n",
              "  </tbody>\n",
              "</table>\n",
              "<p>8760 rows × 2 columns</p>\n",
              "</div>\n",
              "      <button class=\"colab-df-convert\" onclick=\"convertToInteractive('df-a89176d8-28b1-4064-b2e4-675af6640333')\"\n",
              "              title=\"Convert this dataframe to an interactive table.\"\n",
              "              style=\"display:none;\">\n",
              "        \n",
              "  <svg xmlns=\"http://www.w3.org/2000/svg\" height=\"24px\"viewBox=\"0 0 24 24\"\n",
              "       width=\"24px\">\n",
              "    <path d=\"M0 0h24v24H0V0z\" fill=\"none\"/>\n",
              "    <path d=\"M18.56 5.44l.94 2.06.94-2.06 2.06-.94-2.06-.94-.94-2.06-.94 2.06-2.06.94zm-11 1L8.5 8.5l.94-2.06 2.06-.94-2.06-.94L8.5 2.5l-.94 2.06-2.06.94zm10 10l.94 2.06.94-2.06 2.06-.94-2.06-.94-.94-2.06-.94 2.06-2.06.94z\"/><path d=\"M17.41 7.96l-1.37-1.37c-.4-.4-.92-.59-1.43-.59-.52 0-1.04.2-1.43.59L10.3 9.45l-7.72 7.72c-.78.78-.78 2.05 0 2.83L4 21.41c.39.39.9.59 1.41.59.51 0 1.02-.2 1.41-.59l7.78-7.78 2.81-2.81c.8-.78.8-2.07 0-2.86zM5.41 20L4 18.59l7.72-7.72 1.47 1.35L5.41 20z\"/>\n",
              "  </svg>\n",
              "      </button>\n",
              "      \n",
              "  <style>\n",
              "    .colab-df-container {\n",
              "      display:flex;\n",
              "      flex-wrap:wrap;\n",
              "      gap: 12px;\n",
              "    }\n",
              "\n",
              "    .colab-df-convert {\n",
              "      background-color: #E8F0FE;\n",
              "      border: none;\n",
              "      border-radius: 50%;\n",
              "      cursor: pointer;\n",
              "      display: none;\n",
              "      fill: #1967D2;\n",
              "      height: 32px;\n",
              "      padding: 0 0 0 0;\n",
              "      width: 32px;\n",
              "    }\n",
              "\n",
              "    .colab-df-convert:hover {\n",
              "      background-color: #E2EBFA;\n",
              "      box-shadow: 0px 1px 2px rgba(60, 64, 67, 0.3), 0px 1px 3px 1px rgba(60, 64, 67, 0.15);\n",
              "      fill: #174EA6;\n",
              "    }\n",
              "\n",
              "    [theme=dark] .colab-df-convert {\n",
              "      background-color: #3B4455;\n",
              "      fill: #D2E3FC;\n",
              "    }\n",
              "\n",
              "    [theme=dark] .colab-df-convert:hover {\n",
              "      background-color: #434B5C;\n",
              "      box-shadow: 0px 1px 3px 1px rgba(0, 0, 0, 0.15);\n",
              "      filter: drop-shadow(0px 1px 2px rgba(0, 0, 0, 0.3));\n",
              "      fill: #FFFFFF;\n",
              "    }\n",
              "  </style>\n",
              "\n",
              "      <script>\n",
              "        const buttonEl =\n",
              "          document.querySelector('#df-a89176d8-28b1-4064-b2e4-675af6640333 button.colab-df-convert');\n",
              "        buttonEl.style.display =\n",
              "          google.colab.kernel.accessAllowed ? 'block' : 'none';\n",
              "\n",
              "        async function convertToInteractive(key) {\n",
              "          const element = document.querySelector('#df-a89176d8-28b1-4064-b2e4-675af6640333');\n",
              "          const dataTable =\n",
              "            await google.colab.kernel.invokeFunction('convertToInteractive',\n",
              "                                                     [key], {});\n",
              "          if (!dataTable) return;\n",
              "\n",
              "          const docLinkHtml = 'Like what you see? Visit the ' +\n",
              "            '<a target=\"_blank\" href=https://colab.research.google.com/notebooks/data_table.ipynb>data table notebook</a>'\n",
              "            + ' to learn more about interactive tables.';\n",
              "          element.innerHTML = '';\n",
              "          dataTable['output_type'] = 'display_data';\n",
              "          await google.colab.output.renderOutput(dataTable, element);\n",
              "          const docLink = document.createElement('div');\n",
              "          docLink.innerHTML = docLinkHtml;\n",
              "          element.appendChild(docLink);\n",
              "        }\n",
              "      </script>\n",
              "    </div>\n",
              "  </div>\n",
              "  "
            ]
          },
          "metadata": {},
          "execution_count": 36
        }
      ]
    },
    {
      "cell_type": "code",
      "source": [
        "#model = torch.load(FILE)"
      ],
      "metadata": {
        "id": "AfM95jbn3_LN"
      },
      "execution_count": 37,
      "outputs": []
    },
    {
      "cell_type": "code",
      "source": [
        "# model.eval()\n",
        "\n",
        "# print('whole model load')\n",
        "# for parm in model.parameters():\n",
        "#     print(parm)"
      ],
      "metadata": {
        "id": "31ZDUKkdTn02"
      },
      "execution_count": 38,
      "outputs": []
    }
  ]
}