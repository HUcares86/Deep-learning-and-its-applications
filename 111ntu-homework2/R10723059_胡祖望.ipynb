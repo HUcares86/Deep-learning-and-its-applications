{
  "cells": [
    {
      "cell_type": "markdown",
      "source": [
        "# link to cloud"
      ],
      "metadata": {
        "id": "oCQwe4c1geBF"
      }
    },
    {
      "cell_type": "code",
      "execution_count": 15,
      "metadata": {
        "colab": {
          "base_uri": "https://localhost:8080/"
        },
        "id": "hc_TH53Q6Lq5",
        "outputId": "92fb79d8-debe-45b2-939f-816c969bf6fb"
      },
      "outputs": [
        {
          "output_type": "stream",
          "name": "stdout",
          "text": [
            "Drive already mounted at /content/drive; to attempt to forcibly remount, call drive.mount(\"/content/drive\", force_remount=True).\n"
          ]
        }
      ],
      "source": [
        "from google.colab import drive\n",
        "drive.mount('/content/drive')"
      ]
    },
    {
      "cell_type": "markdown",
      "source": [
        "# Package"
      ],
      "metadata": {
        "id": "myCNxCydgk5W"
      }
    },
    {
      "cell_type": "code",
      "execution_count": 16,
      "metadata": {
        "id": "KI90kP7Z7IHz"
      },
      "outputs": [],
      "source": [
        "import numpy as np\n",
        "import torch\n",
        "import torchvision\n",
        "import matplotlib\n",
        "import matplotlib.pyplot as plt\n",
        "import torch.nn.functional as F\n",
        "from torchvision.datasets import MNIST\n",
        "from torchvision.transforms import ToTensor\n",
        "from torchvision.utils import make_grid\n",
        "from torch.utils.data.dataloader import DataLoader\n",
        "from torch.utils.data import random_split\n",
        "import pandas as pd\n",
        "from torch.utils.data import Dataset\n",
        "from torch.utils.data import DataLoader\n",
        "from torch import nn\n",
        "from sklearn import preprocessing\n",
        "from enum import Enum \n",
        "import copy\n",
        "# import SGD for optimizer\n",
        "from torch.optim import SGD\n",
        "\n",
        "# import Adam for optimizer\n",
        "from torch.optim import Adam\n",
        "\n",
        "# to measure the performance import L1Loss\n",
        "from torch.nn import L1Loss"
      ]
    },
    {
      "cell_type": "markdown",
      "source": [
        "# import data"
      ],
      "metadata": {
        "id": "SRwgpy7slRX8"
      }
    },
    {
      "cell_type": "code",
      "execution_count": 17,
      "metadata": {
        "id": "bEjoISIH6M7v"
      },
      "outputs": [],
      "source": [
        "training_y = np.load('/content/drive/MyDrive/code/python/projects/ADL/ADL_(IM5062)/111ntu-homework2/training_y.npy')"
      ]
    },
    {
      "cell_type": "code",
      "execution_count": 18,
      "metadata": {
        "colab": {
          "base_uri": "https://localhost:8080/"
        },
        "id": "1aPkngOo7W84",
        "outputId": "82ad0d96-1493-4e32-8602-ab10026a304a"
      },
      "outputs": [
        {
          "output_type": "execute_result",
          "data": {
            "text/plain": [
              "array([[45., 40.],\n",
              "       [45., 35.],\n",
              "       [40., 35.],\n",
              "       ...,\n",
              "       [30., 25.],\n",
              "       [46., 38.],\n",
              "       [62., 42.]])"
            ]
          },
          "metadata": {},
          "execution_count": 18
        }
      ],
      "source": [
        "training_y"
      ]
    },
    {
      "cell_type": "code",
      "execution_count": 4,
      "metadata": {
        "id": "zOADnj_7tLjI"
      },
      "outputs": [],
      "source": [
        "# training_y[87]"
      ]
    },
    {
      "cell_type": "code",
      "execution_count": 5,
      "metadata": {
        "id": "1yFSLtAj7YKi"
      },
      "outputs": [],
      "source": [
        "# print(np.size(training_y))\n",
        "# print(len(training_y))"
      ]
    },
    {
      "cell_type": "code",
      "execution_count": 6,
      "metadata": {
        "id": "rZymPZ_y6M-l"
      },
      "outputs": [],
      "source": [
        "# training_y[0]"
      ]
    },
    {
      "cell_type": "code",
      "execution_count": 7,
      "metadata": {
        "id": "zj5BpKGR6NBW"
      },
      "outputs": [],
      "source": [
        "training_x_grid = np.load('/content/drive/MyDrive/code/python/projects/ADL/ADL_(IM5062)/111ntu-homework2/training_x_grid.npy')"
      ]
    },
    {
      "cell_type": "code",
      "execution_count": 19,
      "metadata": {
        "id": "qD-D9Li48wwn"
      },
      "outputs": [],
      "source": [
        "# training_x_grid\n",
        "#print(np.size(training_x_grid))\n",
        "#print(len(training_x_grid))\n",
        "#training_x_grid[-1]\n",
        "#training_x_grid[0][0][0]\n",
        "#training_x_grid[0][0][0]\n",
        "#len(training_x_grid[0][0])\n",
        "#len(training_x_grid[0])\n",
        "#training_x_grid[0][0][0]"
      ]
    },
    {
      "cell_type": "markdown",
      "source": [],
      "metadata": {
        "id": "82Z4G9PblOHZ"
      }
    },
    {
      "cell_type": "markdown",
      "source": [
        "# custom dataset "
      ],
      "metadata": {
        "id": "42LzCpsgtKF0"
      }
    },
    {
      "cell_type": "code",
      "execution_count": 20,
      "metadata": {
        "id": "w6awznsa6NP1"
      },
      "outputs": [],
      "source": [
        "class CustomDataset(Dataset):\n",
        "    # This loads the data and converts it, make data rdy\n",
        "    def __init__(self):\n",
        "        # load data\n",
        "        self.df= training_x_grid\n",
        "        # extract labels\n",
        "        self.df_labels= training_y\n",
        "        # conver to torch dtypes\n",
        "        self.dataset=torch.tensor(self.df).float()\n",
        "\n",
        "        self.labels=torch.tensor(self.df_labels).long()\n",
        "    \n",
        "    # This returns the total amount of samples in your Dataset\n",
        "    def __len__(self):\n",
        "        return len(self.dataset)\n",
        "    \n",
        "    # This returns given an index the i-th sample and label\n",
        "    def __getitem__(self, idx):\n",
        "        return self.dataset[idx],self.labels[idx]"
      ]
    },
    {
      "cell_type": "code",
      "execution_count": 21,
      "metadata": {
        "colab": {
          "base_uri": "https://localhost:8080/"
        },
        "id": "LhjhZXiEr_Ve",
        "outputId": "dbb72777-3d9b-4aaa-9c80-df7b2ba3d61a"
      },
      "outputs": [
        {
          "output_type": "execute_result",
          "data": {
            "text/plain": [
              "<__main__.CustomDataset at 0x7f8e617fddd0>"
            ]
          },
          "metadata": {},
          "execution_count": 21
        }
      ],
      "source": [
        "ds=CustomDataset()\n",
        "ds"
      ]
    },
    {
      "cell_type": "markdown",
      "metadata": {
        "id": "bsuz90KxzG6n"
      },
      "source": [
        "# Training and Validation Datasets\n"
      ]
    },
    {
      "cell_type": "code",
      "execution_count": 22,
      "metadata": {
        "colab": {
          "base_uri": "https://localhost:8080/"
        },
        "id": "ir1q12jNuiQs",
        "outputId": "5ac6533d-fb58-4ab7-b637-ac61aa12c45e"
      },
      "outputs": [
        {
          "output_type": "execute_result",
          "data": {
            "text/plain": [
              "(8395, 365)"
            ]
          },
          "metadata": {},
          "execution_count": 22
        }
      ],
      "source": [
        "from torch.utils.data import random_split\n",
        "# 8760, 7665(115*73), 1095(5*73) \n",
        "train_ds, val_ds = random_split(ds, [8395, 365])\n",
        "len(train_ds), len(val_ds)"
      ]
    },
    {
      "cell_type": "code",
      "execution_count": 23,
      "metadata": {
        "id": "-p0smJ4HuiTS"
      },
      "outputs": [],
      "source": [
        "#train_ds[0]\n",
        "#val_ds[0]\n",
        "#val_ds[0]\n",
        "#val_ds[0]"
      ]
    },
    {
      "cell_type": "code",
      "execution_count": 24,
      "metadata": {
        "id": "oxxDgDovymN4"
      },
      "outputs": [],
      "source": [
        "from torch.utils.data import DataLoader\n",
        "\n",
        "batch_size = 73\n",
        "\n",
        "train_loader = DataLoader(train_ds,batch_size, shuffle=True, num_workers=2, pin_memory=True)\n",
        "val_loader = DataLoader(val_ds, batch_size, num_workers=2, pin_memory=True)"
      ]
    },
    {
      "cell_type": "code",
      "execution_count": 25,
      "metadata": {
        "id": "xeSCOfr7ymQh"
      },
      "outputs": [],
      "source": [
        "# for images, labels in val_loader:\n",
        "#     print('images.shape:', images.shape)\n",
        "    # out = simple_model(images)\n",
        "    # print('out.shape:', out.shape)"
      ]
    },
    {
      "cell_type": "code",
      "execution_count": 26,
      "metadata": {
        "id": "-Fo3zkQ_ymTd"
      },
      "outputs": [],
      "source": [
        "# for images, labels in train_loader:\n",
        "#     print('images.shape:', images.shape)\n",
        "#     # out = simple_model(images)\n",
        "#     # print('out.shape:', out.shape)\n",
        "#     break"
      ]
    },
    {
      "cell_type": "markdown",
      "metadata": {
        "id": "5jc-SREpOEMk"
      },
      "source": [
        "# testing datasets"
      ]
    },
    {
      "cell_type": "code",
      "execution_count": 27,
      "metadata": {
        "id": "VxCkq4wGODpG"
      },
      "outputs": [],
      "source": [
        "testing_x_grid = np.load('/content/drive/MyDrive/code/python/projects/ADL/ADL_(IM5062)/111ntu-homework2/testing_x_grid.npy')"
      ]
    },
    {
      "cell_type": "code",
      "source": [
        "#testing_x_grid "
      ],
      "metadata": {
        "id": "uVjOghVcaMhj"
      },
      "execution_count": 28,
      "outputs": []
    },
    {
      "cell_type": "code",
      "execution_count": 29,
      "metadata": {
        "id": "ajrfrWHlODsP"
      },
      "outputs": [],
      "source": [
        "testing_x_grid_T = torch.tensor(testing_x_grid.astype(np.float32))"
      ]
    },
    {
      "cell_type": "code",
      "source": [
        "# testing_x_grid_T"
      ],
      "metadata": {
        "id": "rhlH1V71aJ38"
      },
      "execution_count": 30,
      "outputs": []
    },
    {
      "cell_type": "code",
      "source": [
        "# testing_x_grid_T.shape"
      ],
      "metadata": {
        "id": "MZasIKvGaJ6J"
      },
      "execution_count": 31,
      "outputs": []
    },
    {
      "cell_type": "markdown",
      "metadata": {
        "id": "NaxXDII8QoBi"
      },
      "source": [
        "#test with simple model"
      ]
    },
    {
      "cell_type": "code",
      "execution_count": 32,
      "metadata": {
        "id": "hB0u-SwkQj_g"
      },
      "outputs": [],
      "source": [
        "simple_model = nn.Sequential(\n",
        "            nn.Conv2d(30, 32, kernel_size=2, padding=1),\n",
        "            #input 30 channel(RGB) and output 32\n",
        "            # output: 32  38, 13\n",
        "            nn.ReLU(),  # doesn't change shape\n",
        "            # output: 32  38, 13\n",
        "            nn.Conv2d(32, 64, kernel_size=2, stride=1, padding=1),\n",
        "            # output: 64  38, 13\n",
        "            nn.ReLU(),\n",
        "            # output: 64  38, 13\n",
        "            nn.MaxPool2d(2, 2), # output: 64 x 19 x 7\n",
        "\n",
        "            nn.Conv2d(64, 128, kernel_size=2, stride=1, padding=1),\n",
        "            nn.ReLU(),\n",
        "            nn.Conv2d(128, 256, kernel_size=2, stride=1, padding=1),\n",
        "            nn.ReLU(),\n",
        "            nn.MaxPool2d(2, 2), # output: 128 x 11, 4\n",
        "\n",
        "            nn.Conv2d(256, 512, kernel_size=2, stride=1, padding=1),\n",
        "            nn.ReLU(),\n",
        "            nn.MaxPool2d(2, 2), # output: 512, 6, 2\n",
        "\n",
        "            # nn.Flatten(),\n",
        "            # nn.Linear(8512, 64),\n",
        "            # nn.ReLU(),\n",
        "            # nn.Linear(64, 2)\n",
        ")"
      ]
    },
    {
      "cell_type": "code",
      "execution_count": 33,
      "metadata": {
        "colab": {
          "base_uri": "https://localhost:8080/"
        },
        "id": "jTJpPjGdQkCM",
        "outputId": "5bca5112-cc8d-4156-fce3-4990952dac68"
      },
      "outputs": [
        {
          "output_type": "stream",
          "name": "stdout",
          "text": [
            "images.shape: torch.Size([73, 30, 38, 13])\n",
            "out.shape: torch.Size([73, 512, 6, 2])\n",
            "torch.Size([73, 512, 6, 2])\n"
          ]
        }
      ],
      "source": [
        "for images, labels in train_loader:\n",
        "    print('images.shape:', images.shape)\n",
        "    out = simple_model(images)\n",
        "    print('out.shape:', out.shape)\n",
        "    print(out.shape)\n",
        "\n",
        "    # print(\"-------\")\n",
        "    # print(labels.shape)\n",
        "\n",
        "    # # loss_fc = L1Loss()\n",
        "    # loss_fc = nn.MSELoss()\n",
        "    # loss = loss_fc(out, labels)\n",
        "    # print(loss)\n",
        "    break\n",
        "\n",
        "  "
      ]
    },
    {
      "cell_type": "markdown",
      "metadata": {
        "id": "Y9b_zgRWQkbT"
      },
      "source": [
        "# model\n"
      ]
    },
    {
      "cell_type": "code",
      "execution_count": 34,
      "metadata": {
        "id": "hRiedSoY8K6r"
      },
      "outputs": [],
      "source": [
        "from torch.nn import L1Loss\n",
        "class ImageClassificationBase(nn.Module):\n",
        "    def training_step(self, batch):\n",
        "        images, labels = batch \n",
        "        out = self(images)                  # Generate predictions\n",
        "        loss_fc1 = L1Loss()\n",
        "        #loss_fc1 = nn.MSELoss()\n",
        "        loss = loss_fc1(out, labels)\n",
        "        # Calculate loss\n",
        "        return loss\n",
        "    \n",
        "    def validation_step(self, batch):\n",
        "        images, labels = batch \n",
        "        out = self(images)                    # Generate predictions\n",
        "        loss_fc2 = L1Loss()\n",
        "        #loss_fc2 = nn.MSELoss()\n",
        "        loss2 = loss_fc2(out, labels)   \n",
        "        # Calculate loss\n",
        "        return {'val_loss': loss2.detach()}\n",
        "        \n",
        "    def validation_epoch_end(self, outputs):\n",
        "        batch_losses = [x['val_loss'] for x in outputs]\n",
        "        epoch_loss = torch.stack(batch_losses).mean()   # Combine losses\n",
        "        return {'val_loss': epoch_loss.item()}\n",
        "    \n",
        "    def epoch_end(self, epoch, result):\n",
        "        print(\"Epoch [{}], train_loss: {:.4f}, val_loss: {:.4f}\".format(\n",
        "            epoch, result['train_loss'], result['val_loss']))\n",
        "      "
      ]
    },
    {
      "cell_type": "code",
      "execution_count": 35,
      "metadata": {
        "id": "0-2c7fsu8K9p"
      },
      "outputs": [],
      "source": [
        "# loss = nn.MSELoss()"
      ]
    },
    {
      "cell_type": "code",
      "execution_count": 36,
      "metadata": {
        "id": "sfzX0pwt8LBv"
      },
      "outputs": [],
      "source": [
        "class Cifar10CnnModel(ImageClassificationBase):\n",
        "    def __init__(self):\n",
        "        super().__init__()\n",
        "        self.network = nn.Sequential(\n",
        "            \n",
        "            # input 30, 38, 13\n",
        "            nn.Conv2d(30, 32, kernel_size=2, padding=1),\n",
        "            #input 30 channel(RGB) and output 32\n",
        "            # output: 32  38, 13\n",
        "            nn.ReLU(),  # doesn't change shape\n",
        "            # output: 32  38, 13\n",
        "            nn.Conv2d(32, 64, kernel_size=3, stride=1, padding=1),\n",
        "            # output: 64  38, 13\n",
        "            nn.ReLU(),\n",
        "            # output: 64  38, 13\n",
        "            nn.MaxPool2d(2, 2), # output: 64 x 19 x 7\n",
        "\n",
        "            nn.Flatten(), \n",
        "\n",
        "            nn.Linear(8512,512),\n",
        "            nn.BatchNorm1d(512),\n",
        "            nn.ReLU(),\n",
        "            nn.Dropout(0.4),\n",
        "\n",
        "            nn.Linear(512,256),\n",
        "            nn.BatchNorm1d(256),\n",
        "            nn.ReLU(),\n",
        "            nn.Dropout(0.4),\n",
        "\n",
        "            nn.Linear(256, 64),\n",
        "            nn.BatchNorm1d(64),\n",
        "            nn.ReLU(),\n",
        "            nn.Dropout(0.4),\n",
        "\n",
        "            nn.Linear(64, 64),\n",
        "            nn.BatchNorm1d(64),\n",
        "            nn.ReLU(),\n",
        "\n",
        "            nn.Linear(64, 2))\n",
        "        \n",
        "    def forward(self, xb):\n",
        "        return self.network(xb)"
      ]
    },
    {
      "cell_type": "code",
      "execution_count": 37,
      "metadata": {
        "colab": {
          "base_uri": "https://localhost:8080/"
        },
        "id": "-ah9xubX8LEU",
        "outputId": "fba52c5c-c003-42cc-8eec-fee1b43bf61d"
      },
      "outputs": [
        {
          "output_type": "execute_result",
          "data": {
            "text/plain": [
              "Cifar10CnnModel(\n",
              "  (network): Sequential(\n",
              "    (0): Conv2d(30, 32, kernel_size=(2, 2), stride=(1, 1), padding=(1, 1))\n",
              "    (1): ReLU()\n",
              "    (2): Conv2d(32, 64, kernel_size=(3, 3), stride=(1, 1), padding=(1, 1))\n",
              "    (3): ReLU()\n",
              "    (4): MaxPool2d(kernel_size=2, stride=2, padding=0, dilation=1, ceil_mode=False)\n",
              "    (5): Flatten(start_dim=1, end_dim=-1)\n",
              "    (6): Linear(in_features=8512, out_features=512, bias=True)\n",
              "    (7): BatchNorm1d(512, eps=1e-05, momentum=0.1, affine=True, track_running_stats=True)\n",
              "    (8): ReLU()\n",
              "    (9): Dropout(p=0.4, inplace=False)\n",
              "    (10): Linear(in_features=512, out_features=256, bias=True)\n",
              "    (11): BatchNorm1d(256, eps=1e-05, momentum=0.1, affine=True, track_running_stats=True)\n",
              "    (12): ReLU()\n",
              "    (13): Dropout(p=0.4, inplace=False)\n",
              "    (14): Linear(in_features=256, out_features=64, bias=True)\n",
              "    (15): BatchNorm1d(64, eps=1e-05, momentum=0.1, affine=True, track_running_stats=True)\n",
              "    (16): ReLU()\n",
              "    (17): Dropout(p=0.4, inplace=False)\n",
              "    (18): Linear(in_features=64, out_features=64, bias=True)\n",
              "    (19): BatchNorm1d(64, eps=1e-05, momentum=0.1, affine=True, track_running_stats=True)\n",
              "    (20): ReLU()\n",
              "    (21): Linear(in_features=64, out_features=2, bias=True)\n",
              "  )\n",
              ")"
            ]
          },
          "metadata": {},
          "execution_count": 37
        }
      ],
      "source": [
        "model = Cifar10CnnModel()\n",
        "model"
      ]
    },
    {
      "cell_type": "code",
      "execution_count": 38,
      "metadata": {
        "id": "8ZxBZmDVdvH1"
      },
      "outputs": [],
      "source": [
        "@torch.no_grad()  # means that will not do any gradients while evaluate\n",
        "def evaluate(model, val_loader):\n",
        "    model.eval()\n",
        "    outputs = [model.validation_step(batch) for batch in val_loader]\n",
        "    return model.validation_epoch_end(outputs)\n",
        "\n",
        "def fit(epochs, lr, model, train_loader, val_loader, opt_func=torch.optim.SGD):\n",
        "    history = []\n",
        "    optimizer = opt_func(model.parameters(), lr)\n",
        "    #print(\"1\")\n",
        "    for epoch in range(epochs):\n",
        "        # Training Phase \n",
        "        #print(\"2\")\n",
        "        model.train()\n",
        "        #print(\"3\")\n",
        "        train_losses = []\n",
        "        for batch in train_loader:\n",
        "            #print(\"4\")\n",
        "            loss = model.training_step(batch)\n",
        "            #print(\"5\")\n",
        "            train_losses.append(loss)\n",
        "            #print(\"6\")\n",
        "            loss.backward()\n",
        "            optimizer.step()\n",
        "            optimizer.zero_grad()\n",
        "        # Validation phase\n",
        "        result = evaluate(model, val_loader)\n",
        "        result['train_loss'] = torch.stack(train_losses).mean().item()\n",
        "        model.epoch_end(epoch, result)\n",
        "        history.append(result)\n",
        "    return history"
      ]
    },
    {
      "cell_type": "code",
      "execution_count": 39,
      "metadata": {
        "colab": {
          "base_uri": "https://localhost:8080/"
        },
        "id": "SzlqtG60dvKz",
        "outputId": "9f762ad0-27a8-4e1f-8794-e33d4dd2de0e"
      },
      "outputs": [
        {
          "output_type": "execute_result",
          "data": {
            "text/plain": [
              "Cifar10CnnModel(\n",
              "  (network): Sequential(\n",
              "    (0): Conv2d(30, 32, kernel_size=(2, 2), stride=(1, 1), padding=(1, 1))\n",
              "    (1): ReLU()\n",
              "    (2): Conv2d(32, 64, kernel_size=(3, 3), stride=(1, 1), padding=(1, 1))\n",
              "    (3): ReLU()\n",
              "    (4): MaxPool2d(kernel_size=2, stride=2, padding=0, dilation=1, ceil_mode=False)\n",
              "    (5): Flatten(start_dim=1, end_dim=-1)\n",
              "    (6): Linear(in_features=8512, out_features=512, bias=True)\n",
              "    (7): BatchNorm1d(512, eps=1e-05, momentum=0.1, affine=True, track_running_stats=True)\n",
              "    (8): ReLU()\n",
              "    (9): Dropout(p=0.4, inplace=False)\n",
              "    (10): Linear(in_features=512, out_features=256, bias=True)\n",
              "    (11): BatchNorm1d(256, eps=1e-05, momentum=0.1, affine=True, track_running_stats=True)\n",
              "    (12): ReLU()\n",
              "    (13): Dropout(p=0.4, inplace=False)\n",
              "    (14): Linear(in_features=256, out_features=64, bias=True)\n",
              "    (15): BatchNorm1d(64, eps=1e-05, momentum=0.1, affine=True, track_running_stats=True)\n",
              "    (16): ReLU()\n",
              "    (17): Dropout(p=0.4, inplace=False)\n",
              "    (18): Linear(in_features=64, out_features=64, bias=True)\n",
              "    (19): BatchNorm1d(64, eps=1e-05, momentum=0.1, affine=True, track_running_stats=True)\n",
              "    (20): ReLU()\n",
              "    (21): Linear(in_features=64, out_features=2, bias=True)\n",
              "  )\n",
              ")"
            ]
          },
          "metadata": {},
          "execution_count": 39
        }
      ],
      "source": [
        "model = Cifar10CnnModel()\n",
        "model"
      ]
    },
    {
      "cell_type": "code",
      "execution_count": 42,
      "metadata": {
        "colab": {
          "base_uri": "https://localhost:8080/"
        },
        "id": "nA2apNFjdvN3",
        "outputId": "3b3b3e05-6cf5-4fce-8789-3db5d71d1090"
      },
      "outputs": [
        {
          "output_type": "execute_result",
          "data": {
            "text/plain": [
              "{'val_loss': 23.63582420349121}"
            ]
          },
          "metadata": {},
          "execution_count": 42
        }
      ],
      "source": [
        "evaluate(model, val_loader)"
      ]
    },
    {
      "cell_type": "code",
      "execution_count": 43,
      "metadata": {
        "id": "vC6obgCGdvQr"
      },
      "outputs": [],
      "source": [
        "num_epochs = 20\n",
        "opt_func = torch.optim.Adam\n",
        "lr = 0.001"
      ]
    },
    {
      "cell_type": "code",
      "execution_count": 44,
      "metadata": {
        "colab": {
          "base_uri": "https://localhost:8080/"
        },
        "id": "5nUtQHU1dvT1",
        "outputId": "f096ec54-4a0b-41b8-ec99-519dd288be32"
      },
      "outputs": [
        {
          "output_type": "stream",
          "name": "stdout",
          "text": [
            "Epoch [0], train_loss: 20.3536, val_loss: 19.7669\n",
            "Epoch [1], train_loss: 14.0597, val_loss: 12.6637\n",
            "Epoch [2], train_loss: 7.5851, val_loss: 5.9990\n",
            "Epoch [3], train_loss: 5.6569, val_loss: 5.3842\n",
            "Epoch [4], train_loss: 5.3414, val_loss: 7.6355\n",
            "Epoch [5], train_loss: 5.2622, val_loss: 4.8771\n",
            "Epoch [6], train_loss: 5.2129, val_loss: 5.3913\n",
            "Epoch [7], train_loss: 5.1669, val_loss: 5.1047\n",
            "Epoch [8], train_loss: 5.1440, val_loss: 5.0809\n",
            "Epoch [9], train_loss: 4.9964, val_loss: 5.6654\n",
            "Epoch [10], train_loss: 5.0639, val_loss: 4.8119\n",
            "Epoch [11], train_loss: 4.9756, val_loss: 4.7567\n",
            "Epoch [12], train_loss: 5.0092, val_loss: 4.7728\n",
            "Epoch [13], train_loss: 5.0081, val_loss: 4.7238\n",
            "Epoch [14], train_loss: 4.9998, val_loss: 4.9243\n",
            "Epoch [15], train_loss: 4.9498, val_loss: 4.7377\n",
            "Epoch [16], train_loss: 4.8985, val_loss: 4.9931\n",
            "Epoch [17], train_loss: 4.9957, val_loss: 4.6043\n",
            "Epoch [18], train_loss: 4.8882, val_loss: 4.8976\n",
            "Epoch [19], train_loss: 4.9047, val_loss: 4.7126\n"
          ]
        }
      ],
      "source": [
        "history = fit(num_epochs, lr, model, train_loader, val_loader, opt_func)"
      ]
    },
    {
      "cell_type": "code",
      "source": [
        "num_epochs = 20\n",
        "opt_func = torch.optim.Adam\n",
        "lr = 0.0005"
      ],
      "metadata": {
        "id": "P_r5hoqMjx8A"
      },
      "execution_count": 63,
      "outputs": []
    },
    {
      "cell_type": "code",
      "source": [
        "history = fit(num_epochs, lr, model, train_loader, val_loader, opt_func)"
      ],
      "metadata": {
        "colab": {
          "base_uri": "https://localhost:8080/"
        },
        "id": "oMOi6tVbjx_A",
        "outputId": "2bdcd89f-0590-4acb-825f-f03d8f5353ca"
      },
      "execution_count": 64,
      "outputs": [
        {
          "output_type": "stream",
          "name": "stdout",
          "text": [
            "Epoch [0], train_loss: 4.8059, val_loss: 4.6497\n",
            "Epoch [1], train_loss: 4.7532, val_loss: 4.5610\n",
            "Epoch [2], train_loss: 4.7205, val_loss: 5.0517\n",
            "Epoch [3], train_loss: 4.7280, val_loss: 4.5423\n",
            "Epoch [4], train_loss: 4.7170, val_loss: 4.5384\n",
            "Epoch [5], train_loss: 4.7473, val_loss: 4.8012\n",
            "Epoch [6], train_loss: 4.7263, val_loss: 4.5878\n",
            "Epoch [7], train_loss: 4.7281, val_loss: 4.5676\n",
            "Epoch [8], train_loss: 4.6323, val_loss: 5.1381\n",
            "Epoch [9], train_loss: 4.6957, val_loss: 4.6792\n",
            "Epoch [10], train_loss: 4.5879, val_loss: 4.5504\n",
            "Epoch [11], train_loss: 4.5970, val_loss: 4.9292\n",
            "Epoch [12], train_loss: 4.6788, val_loss: 4.6134\n",
            "Epoch [13], train_loss: 4.6022, val_loss: 4.6070\n",
            "Epoch [14], train_loss: 4.6375, val_loss: 4.7654\n",
            "Epoch [15], train_loss: 4.5861, val_loss: 4.5672\n",
            "Epoch [16], train_loss: 4.6113, val_loss: 4.8600\n",
            "Epoch [17], train_loss: 4.5871, val_loss: 4.5598\n",
            "Epoch [18], train_loss: 4.5142, val_loss: 4.9464\n",
            "Epoch [19], train_loss: 4.4995, val_loss: 5.3190\n"
          ]
        }
      ]
    },
    {
      "cell_type": "code",
      "execution_count": 65,
      "metadata": {
        "id": "969XYwZKSuPE"
      },
      "outputs": [],
      "source": [
        "num_epochs = 20\n",
        "opt_func = torch.optim.Adam\n",
        "lr = 0.0001"
      ]
    },
    {
      "cell_type": "code",
      "execution_count": 66,
      "metadata": {
        "colab": {
          "base_uri": "https://localhost:8080/"
        },
        "id": "GrICxGslSptE",
        "outputId": "dda989a1-9bf3-494f-aa9f-f4e310b19445"
      },
      "outputs": [
        {
          "output_type": "stream",
          "name": "stdout",
          "text": [
            "Epoch [0], train_loss: 4.4182, val_loss: 4.4606\n",
            "Epoch [1], train_loss: 4.4462, val_loss: 4.4405\n",
            "Epoch [2], train_loss: 4.4317, val_loss: 4.6320\n",
            "Epoch [3], train_loss: 4.4289, val_loss: 4.5212\n",
            "Epoch [4], train_loss: 4.4129, val_loss: 4.4778\n",
            "Epoch [5], train_loss: 4.3381, val_loss: 4.4413\n",
            "Epoch [6], train_loss: 4.4392, val_loss: 4.4607\n",
            "Epoch [7], train_loss: 4.3733, val_loss: 4.4263\n",
            "Epoch [8], train_loss: 4.4371, val_loss: 4.4382\n",
            "Epoch [9], train_loss: 4.3579, val_loss: 4.4581\n",
            "Epoch [10], train_loss: 4.4230, val_loss: 4.4134\n",
            "Epoch [11], train_loss: 4.3543, val_loss: 4.4151\n",
            "Epoch [12], train_loss: 4.3730, val_loss: 4.5137\n",
            "Epoch [13], train_loss: 4.3406, val_loss: 4.4698\n",
            "Epoch [14], train_loss: 4.3850, val_loss: 4.4376\n",
            "Epoch [15], train_loss: 4.3761, val_loss: 4.4054\n",
            "Epoch [16], train_loss: 4.3057, val_loss: 4.4729\n",
            "Epoch [17], train_loss: 4.2999, val_loss: 4.4994\n",
            "Epoch [18], train_loss: 4.3662, val_loss: 4.4376\n",
            "Epoch [19], train_loss: 4.3278, val_loss: 4.4115\n"
          ]
        }
      ],
      "source": [
        "history += fit(num_epochs, lr, model, train_loader, val_loader, opt_func)"
      ]
    },
    {
      "cell_type": "code",
      "source": [
        "num_epochs = 10\n",
        "opt_func = torch.optim.Adam\n",
        "lr = 0.00005"
      ],
      "metadata": {
        "id": "3m_ulMs8pAkf"
      },
      "execution_count": 67,
      "outputs": []
    },
    {
      "cell_type": "code",
      "source": [
        "history += fit(num_epochs, lr, model, train_loader, val_loader, opt_func)"
      ],
      "metadata": {
        "colab": {
          "base_uri": "https://localhost:8080/"
        },
        "id": "XXspvXzApAnP",
        "outputId": "96708cde-08de-4d53-f792-3174a74bc81a"
      },
      "execution_count": 68,
      "outputs": [
        {
          "output_type": "stream",
          "name": "stdout",
          "text": [
            "Epoch [0], train_loss: 4.4133, val_loss: 4.3129\n",
            "Epoch [1], train_loss: 4.4119, val_loss: 4.3103\n",
            "Epoch [2], train_loss: 4.4197, val_loss: 4.3194\n",
            "Epoch [3], train_loss: 4.4170, val_loss: 4.3425\n",
            "Epoch [4], train_loss: 4.3945, val_loss: 4.3214\n",
            "Epoch [5], train_loss: 4.3979, val_loss: 4.3404\n",
            "Epoch [6], train_loss: 4.3623, val_loss: 4.2920\n",
            "Epoch [7], train_loss: 4.3801, val_loss: 4.3118\n",
            "Epoch [8], train_loss: 4.3445, val_loss: 4.3068\n",
            "Epoch [9], train_loss: 4.3447, val_loss: 4.3015\n"
          ]
        }
      ]
    },
    {
      "cell_type": "code",
      "source": [
        "num_epochs = 10\n",
        "opt_func = torch.optim.Adam\n",
        "lr = 0.000001"
      ],
      "metadata": {
        "id": "Fx-jEB2Bndi6"
      },
      "execution_count": 69,
      "outputs": []
    },
    {
      "cell_type": "code",
      "source": [
        "history += fit(num_epochs, lr, model, train_loader, val_loader, opt_func)"
      ],
      "metadata": {
        "colab": {
          "base_uri": "https://localhost:8080/"
        },
        "id": "3verMgBHndl6",
        "outputId": "cebb9bbd-c479-42dc-983f-9a9dde5131ea"
      },
      "execution_count": 70,
      "outputs": [
        {
          "output_type": "stream",
          "name": "stdout",
          "text": [
            "Epoch [0], train_loss: 4.3622, val_loss: 4.3089\n",
            "Epoch [1], train_loss: 4.3837, val_loss: 4.3001\n",
            "Epoch [2], train_loss: 4.4061, val_loss: 4.3128\n",
            "Epoch [3], train_loss: 4.3487, val_loss: 4.3042\n",
            "Epoch [4], train_loss: 4.3589, val_loss: 4.3119\n",
            "Epoch [5], train_loss: 4.3793, val_loss: 4.3097\n",
            "Epoch [6], train_loss: 4.3683, val_loss: 4.3025\n",
            "Epoch [7], train_loss: 4.3987, val_loss: 4.3093\n",
            "Epoch [8], train_loss: 4.3607, val_loss: 4.3184\n",
            "Epoch [9], train_loss: 4.3726, val_loss: 4.2989\n"
          ]
        }
      ]
    },
    {
      "cell_type": "code",
      "source": [],
      "metadata": {
        "id": "ACszSmXrv8mS"
      },
      "execution_count": null,
      "outputs": []
    },
    {
      "cell_type": "code",
      "source": [
        "def plot_losses(history):\n",
        "    train_losses = [x.get('train_loss') for x in history]\n",
        "    val_losses = [x['val_loss'] for x in history]\n",
        "    plt.plot(train_losses, '-bx')\n",
        "    plt.plot(val_losses, '-rx')\n",
        "    plt.xlabel('epoch')\n",
        "    plt.ylabel('loss')\n",
        "    plt.legend(['Training', 'Validation'])\n",
        "    plt.title('Loss vs. No. of epochs');"
      ],
      "metadata": {
        "id": "SFZwrsrJqOqd"
      },
      "execution_count": 45,
      "outputs": []
    },
    {
      "cell_type": "code",
      "source": [
        "# plot_losses(history)"
      ],
      "metadata": {
        "id": "RUQij__2qQ0m"
      },
      "execution_count": 40,
      "outputs": []
    },
    {
      "cell_type": "markdown",
      "source": [
        "# save model"
      ],
      "metadata": {
        "id": "vPJg7veIh88v"
      }
    },
    {
      "cell_type": "code",
      "source": [
        "FILE = 'hw2_8_8.pt'\n"
      ],
      "metadata": {
        "id": "9xvOeJ4ehxtQ"
      },
      "execution_count": 68,
      "outputs": []
    },
    {
      "cell_type": "code",
      "source": [
        "best = '/content/drive/MyDrive/code/python/projects/ADL/ADL_(IM5062)/111ntu-homework2/R10723059_胡祖望.pt'"
      ],
      "metadata": {
        "id": "79qwh8vOgMJa"
      },
      "execution_count": 41,
      "outputs": []
    },
    {
      "cell_type": "code",
      "source": [
        "torch.save(model, FILE)"
      ],
      "metadata": {
        "id": "_5_eYmrMHM8F"
      },
      "execution_count": 69,
      "outputs": []
    },
    {
      "cell_type": "code",
      "source": [
        "model = torch.load(FILE)"
      ],
      "metadata": {
        "id": "_FXcaVfLHEIj"
      },
      "execution_count": 70,
      "outputs": []
    },
    {
      "cell_type": "code",
      "source": [
        "model = torch.load(best)"
      ],
      "metadata": {
        "id": "F9LcbGBcgYRw"
      },
      "execution_count": 42,
      "outputs": []
    },
    {
      "cell_type": "markdown",
      "source": [
        "# output to csv\n"
      ],
      "metadata": {
        "id": "4h8JJBHwbDoX"
      }
    },
    {
      "cell_type": "code",
      "execution_count": 43,
      "metadata": {
        "id": "7WFxLSiudvZk"
      },
      "outputs": [],
      "source": [
        "out = model(testing_x_grid_T)"
      ]
    },
    {
      "cell_type": "code",
      "execution_count": 44,
      "metadata": {
        "id": "pVpVg-uS8LJq",
        "colab": {
          "base_uri": "https://localhost:8080/"
        },
        "outputId": "6b4d106b-3d60-4547-b306-157606a37dd2"
      },
      "outputs": [
        {
          "output_type": "execute_result",
          "data": {
            "text/plain": [
              "tensor([[77.4743, 63.1286],\n",
              "        [81.7124, 66.4834],\n",
              "        [78.5043, 63.8757],\n",
              "        ...,\n",
              "        [61.5300, 50.1782],\n",
              "        [57.6184, 46.9490],\n",
              "        [50.3672, 42.0186]], grad_fn=<AddmmBackward0>)"
            ]
          },
          "metadata": {},
          "execution_count": 44
        }
      ],
      "source": [
        "out "
      ]
    },
    {
      "cell_type": "code",
      "source": [
        "out.shape"
      ],
      "metadata": {
        "colab": {
          "base_uri": "https://localhost:8080/"
        },
        "id": "XJAipw50arFx",
        "outputId": "207dba39-22a9-4629-cb92-66abb9c59292"
      },
      "execution_count": 45,
      "outputs": [
        {
          "output_type": "execute_result",
          "data": {
            "text/plain": [
              "torch.Size([8760, 2])"
            ]
          },
          "metadata": {},
          "execution_count": 45
        }
      ]
    },
    {
      "cell_type": "code",
      "source": [
        "import pandas as pd\n",
        "import os.path\n",
        "ans_np = out.detach().numpy() #convert to Numpy array\n",
        "df = pd.DataFrame(ans_np) #convert to a dataframe\n"
      ],
      "metadata": {
        "id": "QoH4l6vzarI7"
      },
      "execution_count": 46,
      "outputs": []
    },
    {
      "cell_type": "code",
      "source": [
        "df"
      ],
      "metadata": {
        "colab": {
          "base_uri": "https://localhost:8080/",
          "height": 424
        },
        "id": "ngvweVroarL5",
        "outputId": "effea947-245a-4718-cd34-203805bc4c6b"
      },
      "execution_count": 47,
      "outputs": [
        {
          "output_type": "execute_result",
          "data": {
            "text/plain": [
              "              0          1\n",
              "0     77.474297  63.128574\n",
              "1     81.712448  66.483421\n",
              "2     78.504318  63.875706\n",
              "3     62.528881  51.736996\n",
              "4     53.446686  44.884949\n",
              "...         ...        ...\n",
              "8755  70.968781  56.857479\n",
              "8756  68.695305  55.251698\n",
              "8757  61.530003  50.178188\n",
              "8758  57.618420  46.948994\n",
              "8759  50.367199  42.018570\n",
              "\n",
              "[8760 rows x 2 columns]"
            ],
            "text/html": [
              "\n",
              "  <div id=\"df-e1c4978c-355d-4271-b20d-7500a49d90b6\">\n",
              "    <div class=\"colab-df-container\">\n",
              "      <div>\n",
              "<style scoped>\n",
              "    .dataframe tbody tr th:only-of-type {\n",
              "        vertical-align: middle;\n",
              "    }\n",
              "\n",
              "    .dataframe tbody tr th {\n",
              "        vertical-align: top;\n",
              "    }\n",
              "\n",
              "    .dataframe thead th {\n",
              "        text-align: right;\n",
              "    }\n",
              "</style>\n",
              "<table border=\"1\" class=\"dataframe\">\n",
              "  <thead>\n",
              "    <tr style=\"text-align: right;\">\n",
              "      <th></th>\n",
              "      <th>0</th>\n",
              "      <th>1</th>\n",
              "    </tr>\n",
              "  </thead>\n",
              "  <tbody>\n",
              "    <tr>\n",
              "      <th>0</th>\n",
              "      <td>77.474297</td>\n",
              "      <td>63.128574</td>\n",
              "    </tr>\n",
              "    <tr>\n",
              "      <th>1</th>\n",
              "      <td>81.712448</td>\n",
              "      <td>66.483421</td>\n",
              "    </tr>\n",
              "    <tr>\n",
              "      <th>2</th>\n",
              "      <td>78.504318</td>\n",
              "      <td>63.875706</td>\n",
              "    </tr>\n",
              "    <tr>\n",
              "      <th>3</th>\n",
              "      <td>62.528881</td>\n",
              "      <td>51.736996</td>\n",
              "    </tr>\n",
              "    <tr>\n",
              "      <th>4</th>\n",
              "      <td>53.446686</td>\n",
              "      <td>44.884949</td>\n",
              "    </tr>\n",
              "    <tr>\n",
              "      <th>...</th>\n",
              "      <td>...</td>\n",
              "      <td>...</td>\n",
              "    </tr>\n",
              "    <tr>\n",
              "      <th>8755</th>\n",
              "      <td>70.968781</td>\n",
              "      <td>56.857479</td>\n",
              "    </tr>\n",
              "    <tr>\n",
              "      <th>8756</th>\n",
              "      <td>68.695305</td>\n",
              "      <td>55.251698</td>\n",
              "    </tr>\n",
              "    <tr>\n",
              "      <th>8757</th>\n",
              "      <td>61.530003</td>\n",
              "      <td>50.178188</td>\n",
              "    </tr>\n",
              "    <tr>\n",
              "      <th>8758</th>\n",
              "      <td>57.618420</td>\n",
              "      <td>46.948994</td>\n",
              "    </tr>\n",
              "    <tr>\n",
              "      <th>8759</th>\n",
              "      <td>50.367199</td>\n",
              "      <td>42.018570</td>\n",
              "    </tr>\n",
              "  </tbody>\n",
              "</table>\n",
              "<p>8760 rows × 2 columns</p>\n",
              "</div>\n",
              "      <button class=\"colab-df-convert\" onclick=\"convertToInteractive('df-e1c4978c-355d-4271-b20d-7500a49d90b6')\"\n",
              "              title=\"Convert this dataframe to an interactive table.\"\n",
              "              style=\"display:none;\">\n",
              "        \n",
              "  <svg xmlns=\"http://www.w3.org/2000/svg\" height=\"24px\"viewBox=\"0 0 24 24\"\n",
              "       width=\"24px\">\n",
              "    <path d=\"M0 0h24v24H0V0z\" fill=\"none\"/>\n",
              "    <path d=\"M18.56 5.44l.94 2.06.94-2.06 2.06-.94-2.06-.94-.94-2.06-.94 2.06-2.06.94zm-11 1L8.5 8.5l.94-2.06 2.06-.94-2.06-.94L8.5 2.5l-.94 2.06-2.06.94zm10 10l.94 2.06.94-2.06 2.06-.94-2.06-.94-.94-2.06-.94 2.06-2.06.94z\"/><path d=\"M17.41 7.96l-1.37-1.37c-.4-.4-.92-.59-1.43-.59-.52 0-1.04.2-1.43.59L10.3 9.45l-7.72 7.72c-.78.78-.78 2.05 0 2.83L4 21.41c.39.39.9.59 1.41.59.51 0 1.02-.2 1.41-.59l7.78-7.78 2.81-2.81c.8-.78.8-2.07 0-2.86zM5.41 20L4 18.59l7.72-7.72 1.47 1.35L5.41 20z\"/>\n",
              "  </svg>\n",
              "      </button>\n",
              "      \n",
              "  <style>\n",
              "    .colab-df-container {\n",
              "      display:flex;\n",
              "      flex-wrap:wrap;\n",
              "      gap: 12px;\n",
              "    }\n",
              "\n",
              "    .colab-df-convert {\n",
              "      background-color: #E8F0FE;\n",
              "      border: none;\n",
              "      border-radius: 50%;\n",
              "      cursor: pointer;\n",
              "      display: none;\n",
              "      fill: #1967D2;\n",
              "      height: 32px;\n",
              "      padding: 0 0 0 0;\n",
              "      width: 32px;\n",
              "    }\n",
              "\n",
              "    .colab-df-convert:hover {\n",
              "      background-color: #E2EBFA;\n",
              "      box-shadow: 0px 1px 2px rgba(60, 64, 67, 0.3), 0px 1px 3px 1px rgba(60, 64, 67, 0.15);\n",
              "      fill: #174EA6;\n",
              "    }\n",
              "\n",
              "    [theme=dark] .colab-df-convert {\n",
              "      background-color: #3B4455;\n",
              "      fill: #D2E3FC;\n",
              "    }\n",
              "\n",
              "    [theme=dark] .colab-df-convert:hover {\n",
              "      background-color: #434B5C;\n",
              "      box-shadow: 0px 1px 3px 1px rgba(0, 0, 0, 0.15);\n",
              "      filter: drop-shadow(0px 1px 2px rgba(0, 0, 0, 0.3));\n",
              "      fill: #FFFFFF;\n",
              "    }\n",
              "  </style>\n",
              "\n",
              "      <script>\n",
              "        const buttonEl =\n",
              "          document.querySelector('#df-e1c4978c-355d-4271-b20d-7500a49d90b6 button.colab-df-convert');\n",
              "        buttonEl.style.display =\n",
              "          google.colab.kernel.accessAllowed ? 'block' : 'none';\n",
              "\n",
              "        async function convertToInteractive(key) {\n",
              "          const element = document.querySelector('#df-e1c4978c-355d-4271-b20d-7500a49d90b6');\n",
              "          const dataTable =\n",
              "            await google.colab.kernel.invokeFunction('convertToInteractive',\n",
              "                                                     [key], {});\n",
              "          if (!dataTable) return;\n",
              "\n",
              "          const docLinkHtml = 'Like what you see? Visit the ' +\n",
              "            '<a target=\"_blank\" href=https://colab.research.google.com/notebooks/data_table.ipynb>data table notebook</a>'\n",
              "            + ' to learn more about interactive tables.';\n",
              "          element.innerHTML = '';\n",
              "          dataTable['output_type'] = 'display_data';\n",
              "          await google.colab.output.renderOutput(dataTable, element);\n",
              "          const docLink = document.createElement('div');\n",
              "          docLink.innerHTML = docLinkHtml;\n",
              "          element.appendChild(docLink);\n",
              "        }\n",
              "      </script>\n",
              "    </div>\n",
              "  </div>\n",
              "  "
            ]
          },
          "metadata": {},
          "execution_count": 47
        }
      ]
    },
    {
      "cell_type": "code",
      "source": [
        "df.rename(columns = {0:'PM2.5-1'}, inplace = True)\n",
        "df.rename(columns = {1:'PM2.5-2'}, inplace = True)\n",
        "df.to_csv(os.path.join('/content/drive/MyDrive/code/python/projects/ADL/ADL_(IM5062)/111ntu-homework2','ans8_8.csv')) #save to file\n",
        "#df.rename(columns = {:'INDEX'}, inplace = True)\n"
      ],
      "metadata": {
        "id": "TU9GsWesarP3"
      },
      "execution_count": 48,
      "outputs": []
    },
    {
      "cell_type": "code",
      "execution_count": 49,
      "metadata": {
        "id": "FqXCn2C1ymY6"
      },
      "outputs": [],
      "source": [
        "df3 = pd.read_csv('/content/drive/MyDrive/code/python/projects/ADL/ADL_(IM5062)/111ntu-homework2/ans8_8.csv')"
      ]
    },
    {
      "cell_type": "code",
      "execution_count": 50,
      "metadata": {
        "id": "Hjtdej6CymdU",
        "colab": {
          "base_uri": "https://localhost:8080/",
          "height": 424
        },
        "outputId": "770b645f-edef-4d40-84f6-c79757f62cf1"
      },
      "outputs": [
        {
          "output_type": "execute_result",
          "data": {
            "text/plain": [
              "      Unnamed: 0    PM2.5-1    PM2.5-2\n",
              "0              0  77.474300  63.128574\n",
              "1              1  81.712450  66.483420\n",
              "2              2  78.504320  63.875706\n",
              "3              3  62.528880  51.736996\n",
              "4              4  53.446686  44.884950\n",
              "...          ...        ...        ...\n",
              "8755        8755  70.968780  56.857480\n",
              "8756        8756  68.695305  55.251698\n",
              "8757        8757  61.530003  50.178190\n",
              "8758        8758  57.618420  46.948994\n",
              "8759        8759  50.367200  42.018570\n",
              "\n",
              "[8760 rows x 3 columns]"
            ],
            "text/html": [
              "\n",
              "  <div id=\"df-c5163219-8021-40f9-92c4-8e41ffc8be75\">\n",
              "    <div class=\"colab-df-container\">\n",
              "      <div>\n",
              "<style scoped>\n",
              "    .dataframe tbody tr th:only-of-type {\n",
              "        vertical-align: middle;\n",
              "    }\n",
              "\n",
              "    .dataframe tbody tr th {\n",
              "        vertical-align: top;\n",
              "    }\n",
              "\n",
              "    .dataframe thead th {\n",
              "        text-align: right;\n",
              "    }\n",
              "</style>\n",
              "<table border=\"1\" class=\"dataframe\">\n",
              "  <thead>\n",
              "    <tr style=\"text-align: right;\">\n",
              "      <th></th>\n",
              "      <th>Unnamed: 0</th>\n",
              "      <th>PM2.5-1</th>\n",
              "      <th>PM2.5-2</th>\n",
              "    </tr>\n",
              "  </thead>\n",
              "  <tbody>\n",
              "    <tr>\n",
              "      <th>0</th>\n",
              "      <td>0</td>\n",
              "      <td>77.474300</td>\n",
              "      <td>63.128574</td>\n",
              "    </tr>\n",
              "    <tr>\n",
              "      <th>1</th>\n",
              "      <td>1</td>\n",
              "      <td>81.712450</td>\n",
              "      <td>66.483420</td>\n",
              "    </tr>\n",
              "    <tr>\n",
              "      <th>2</th>\n",
              "      <td>2</td>\n",
              "      <td>78.504320</td>\n",
              "      <td>63.875706</td>\n",
              "    </tr>\n",
              "    <tr>\n",
              "      <th>3</th>\n",
              "      <td>3</td>\n",
              "      <td>62.528880</td>\n",
              "      <td>51.736996</td>\n",
              "    </tr>\n",
              "    <tr>\n",
              "      <th>4</th>\n",
              "      <td>4</td>\n",
              "      <td>53.446686</td>\n",
              "      <td>44.884950</td>\n",
              "    </tr>\n",
              "    <tr>\n",
              "      <th>...</th>\n",
              "      <td>...</td>\n",
              "      <td>...</td>\n",
              "      <td>...</td>\n",
              "    </tr>\n",
              "    <tr>\n",
              "      <th>8755</th>\n",
              "      <td>8755</td>\n",
              "      <td>70.968780</td>\n",
              "      <td>56.857480</td>\n",
              "    </tr>\n",
              "    <tr>\n",
              "      <th>8756</th>\n",
              "      <td>8756</td>\n",
              "      <td>68.695305</td>\n",
              "      <td>55.251698</td>\n",
              "    </tr>\n",
              "    <tr>\n",
              "      <th>8757</th>\n",
              "      <td>8757</td>\n",
              "      <td>61.530003</td>\n",
              "      <td>50.178190</td>\n",
              "    </tr>\n",
              "    <tr>\n",
              "      <th>8758</th>\n",
              "      <td>8758</td>\n",
              "      <td>57.618420</td>\n",
              "      <td>46.948994</td>\n",
              "    </tr>\n",
              "    <tr>\n",
              "      <th>8759</th>\n",
              "      <td>8759</td>\n",
              "      <td>50.367200</td>\n",
              "      <td>42.018570</td>\n",
              "    </tr>\n",
              "  </tbody>\n",
              "</table>\n",
              "<p>8760 rows × 3 columns</p>\n",
              "</div>\n",
              "      <button class=\"colab-df-convert\" onclick=\"convertToInteractive('df-c5163219-8021-40f9-92c4-8e41ffc8be75')\"\n",
              "              title=\"Convert this dataframe to an interactive table.\"\n",
              "              style=\"display:none;\">\n",
              "        \n",
              "  <svg xmlns=\"http://www.w3.org/2000/svg\" height=\"24px\"viewBox=\"0 0 24 24\"\n",
              "       width=\"24px\">\n",
              "    <path d=\"M0 0h24v24H0V0z\" fill=\"none\"/>\n",
              "    <path d=\"M18.56 5.44l.94 2.06.94-2.06 2.06-.94-2.06-.94-.94-2.06-.94 2.06-2.06.94zm-11 1L8.5 8.5l.94-2.06 2.06-.94-2.06-.94L8.5 2.5l-.94 2.06-2.06.94zm10 10l.94 2.06.94-2.06 2.06-.94-2.06-.94-.94-2.06-.94 2.06-2.06.94z\"/><path d=\"M17.41 7.96l-1.37-1.37c-.4-.4-.92-.59-1.43-.59-.52 0-1.04.2-1.43.59L10.3 9.45l-7.72 7.72c-.78.78-.78 2.05 0 2.83L4 21.41c.39.39.9.59 1.41.59.51 0 1.02-.2 1.41-.59l7.78-7.78 2.81-2.81c.8-.78.8-2.07 0-2.86zM5.41 20L4 18.59l7.72-7.72 1.47 1.35L5.41 20z\"/>\n",
              "  </svg>\n",
              "      </button>\n",
              "      \n",
              "  <style>\n",
              "    .colab-df-container {\n",
              "      display:flex;\n",
              "      flex-wrap:wrap;\n",
              "      gap: 12px;\n",
              "    }\n",
              "\n",
              "    .colab-df-convert {\n",
              "      background-color: #E8F0FE;\n",
              "      border: none;\n",
              "      border-radius: 50%;\n",
              "      cursor: pointer;\n",
              "      display: none;\n",
              "      fill: #1967D2;\n",
              "      height: 32px;\n",
              "      padding: 0 0 0 0;\n",
              "      width: 32px;\n",
              "    }\n",
              "\n",
              "    .colab-df-convert:hover {\n",
              "      background-color: #E2EBFA;\n",
              "      box-shadow: 0px 1px 2px rgba(60, 64, 67, 0.3), 0px 1px 3px 1px rgba(60, 64, 67, 0.15);\n",
              "      fill: #174EA6;\n",
              "    }\n",
              "\n",
              "    [theme=dark] .colab-df-convert {\n",
              "      background-color: #3B4455;\n",
              "      fill: #D2E3FC;\n",
              "    }\n",
              "\n",
              "    [theme=dark] .colab-df-convert:hover {\n",
              "      background-color: #434B5C;\n",
              "      box-shadow: 0px 1px 3px 1px rgba(0, 0, 0, 0.15);\n",
              "      filter: drop-shadow(0px 1px 2px rgba(0, 0, 0, 0.3));\n",
              "      fill: #FFFFFF;\n",
              "    }\n",
              "  </style>\n",
              "\n",
              "      <script>\n",
              "        const buttonEl =\n",
              "          document.querySelector('#df-c5163219-8021-40f9-92c4-8e41ffc8be75 button.colab-df-convert');\n",
              "        buttonEl.style.display =\n",
              "          google.colab.kernel.accessAllowed ? 'block' : 'none';\n",
              "\n",
              "        async function convertToInteractive(key) {\n",
              "          const element = document.querySelector('#df-c5163219-8021-40f9-92c4-8e41ffc8be75');\n",
              "          const dataTable =\n",
              "            await google.colab.kernel.invokeFunction('convertToInteractive',\n",
              "                                                     [key], {});\n",
              "          if (!dataTable) return;\n",
              "\n",
              "          const docLinkHtml = 'Like what you see? Visit the ' +\n",
              "            '<a target=\"_blank\" href=https://colab.research.google.com/notebooks/data_table.ipynb>data table notebook</a>'\n",
              "            + ' to learn more about interactive tables.';\n",
              "          element.innerHTML = '';\n",
              "          dataTable['output_type'] = 'display_data';\n",
              "          await google.colab.output.renderOutput(dataTable, element);\n",
              "          const docLink = document.createElement('div');\n",
              "          docLink.innerHTML = docLinkHtml;\n",
              "          element.appendChild(docLink);\n",
              "        }\n",
              "      </script>\n",
              "    </div>\n",
              "  </div>\n",
              "  "
            ]
          },
          "metadata": {},
          "execution_count": 50
        }
      ],
      "source": [
        "df3"
      ]
    },
    {
      "cell_type": "code",
      "execution_count": 51,
      "metadata": {
        "id": "sz5fqC_7ymkL"
      },
      "outputs": [],
      "source": [
        "df3.rename(columns = {'Unnamed: 0':'INDEX'}, inplace = True)\n",
        "df3['INDEX'] = df3['INDEX']+1"
      ]
    },
    {
      "cell_type": "code",
      "execution_count": 52,
      "metadata": {
        "id": "35vKcTeGymnA",
        "colab": {
          "base_uri": "https://localhost:8080/",
          "height": 424
        },
        "outputId": "962deeb4-d24a-4651-a182-726f4bf8f7e8"
      },
      "outputs": [
        {
          "output_type": "execute_result",
          "data": {
            "text/plain": [
              "      INDEX    PM2.5-1    PM2.5-2\n",
              "0         1  77.474300  63.128574\n",
              "1         2  81.712450  66.483420\n",
              "2         3  78.504320  63.875706\n",
              "3         4  62.528880  51.736996\n",
              "4         5  53.446686  44.884950\n",
              "...     ...        ...        ...\n",
              "8755   8756  70.968780  56.857480\n",
              "8756   8757  68.695305  55.251698\n",
              "8757   8758  61.530003  50.178190\n",
              "8758   8759  57.618420  46.948994\n",
              "8759   8760  50.367200  42.018570\n",
              "\n",
              "[8760 rows x 3 columns]"
            ],
            "text/html": [
              "\n",
              "  <div id=\"df-7f6e7b99-de89-4b3b-96f3-24c9740c15ce\">\n",
              "    <div class=\"colab-df-container\">\n",
              "      <div>\n",
              "<style scoped>\n",
              "    .dataframe tbody tr th:only-of-type {\n",
              "        vertical-align: middle;\n",
              "    }\n",
              "\n",
              "    .dataframe tbody tr th {\n",
              "        vertical-align: top;\n",
              "    }\n",
              "\n",
              "    .dataframe thead th {\n",
              "        text-align: right;\n",
              "    }\n",
              "</style>\n",
              "<table border=\"1\" class=\"dataframe\">\n",
              "  <thead>\n",
              "    <tr style=\"text-align: right;\">\n",
              "      <th></th>\n",
              "      <th>INDEX</th>\n",
              "      <th>PM2.5-1</th>\n",
              "      <th>PM2.5-2</th>\n",
              "    </tr>\n",
              "  </thead>\n",
              "  <tbody>\n",
              "    <tr>\n",
              "      <th>0</th>\n",
              "      <td>1</td>\n",
              "      <td>77.474300</td>\n",
              "      <td>63.128574</td>\n",
              "    </tr>\n",
              "    <tr>\n",
              "      <th>1</th>\n",
              "      <td>2</td>\n",
              "      <td>81.712450</td>\n",
              "      <td>66.483420</td>\n",
              "    </tr>\n",
              "    <tr>\n",
              "      <th>2</th>\n",
              "      <td>3</td>\n",
              "      <td>78.504320</td>\n",
              "      <td>63.875706</td>\n",
              "    </tr>\n",
              "    <tr>\n",
              "      <th>3</th>\n",
              "      <td>4</td>\n",
              "      <td>62.528880</td>\n",
              "      <td>51.736996</td>\n",
              "    </tr>\n",
              "    <tr>\n",
              "      <th>4</th>\n",
              "      <td>5</td>\n",
              "      <td>53.446686</td>\n",
              "      <td>44.884950</td>\n",
              "    </tr>\n",
              "    <tr>\n",
              "      <th>...</th>\n",
              "      <td>...</td>\n",
              "      <td>...</td>\n",
              "      <td>...</td>\n",
              "    </tr>\n",
              "    <tr>\n",
              "      <th>8755</th>\n",
              "      <td>8756</td>\n",
              "      <td>70.968780</td>\n",
              "      <td>56.857480</td>\n",
              "    </tr>\n",
              "    <tr>\n",
              "      <th>8756</th>\n",
              "      <td>8757</td>\n",
              "      <td>68.695305</td>\n",
              "      <td>55.251698</td>\n",
              "    </tr>\n",
              "    <tr>\n",
              "      <th>8757</th>\n",
              "      <td>8758</td>\n",
              "      <td>61.530003</td>\n",
              "      <td>50.178190</td>\n",
              "    </tr>\n",
              "    <tr>\n",
              "      <th>8758</th>\n",
              "      <td>8759</td>\n",
              "      <td>57.618420</td>\n",
              "      <td>46.948994</td>\n",
              "    </tr>\n",
              "    <tr>\n",
              "      <th>8759</th>\n",
              "      <td>8760</td>\n",
              "      <td>50.367200</td>\n",
              "      <td>42.018570</td>\n",
              "    </tr>\n",
              "  </tbody>\n",
              "</table>\n",
              "<p>8760 rows × 3 columns</p>\n",
              "</div>\n",
              "      <button class=\"colab-df-convert\" onclick=\"convertToInteractive('df-7f6e7b99-de89-4b3b-96f3-24c9740c15ce')\"\n",
              "              title=\"Convert this dataframe to an interactive table.\"\n",
              "              style=\"display:none;\">\n",
              "        \n",
              "  <svg xmlns=\"http://www.w3.org/2000/svg\" height=\"24px\"viewBox=\"0 0 24 24\"\n",
              "       width=\"24px\">\n",
              "    <path d=\"M0 0h24v24H0V0z\" fill=\"none\"/>\n",
              "    <path d=\"M18.56 5.44l.94 2.06.94-2.06 2.06-.94-2.06-.94-.94-2.06-.94 2.06-2.06.94zm-11 1L8.5 8.5l.94-2.06 2.06-.94-2.06-.94L8.5 2.5l-.94 2.06-2.06.94zm10 10l.94 2.06.94-2.06 2.06-.94-2.06-.94-.94-2.06-.94 2.06-2.06.94z\"/><path d=\"M17.41 7.96l-1.37-1.37c-.4-.4-.92-.59-1.43-.59-.52 0-1.04.2-1.43.59L10.3 9.45l-7.72 7.72c-.78.78-.78 2.05 0 2.83L4 21.41c.39.39.9.59 1.41.59.51 0 1.02-.2 1.41-.59l7.78-7.78 2.81-2.81c.8-.78.8-2.07 0-2.86zM5.41 20L4 18.59l7.72-7.72 1.47 1.35L5.41 20z\"/>\n",
              "  </svg>\n",
              "      </button>\n",
              "      \n",
              "  <style>\n",
              "    .colab-df-container {\n",
              "      display:flex;\n",
              "      flex-wrap:wrap;\n",
              "      gap: 12px;\n",
              "    }\n",
              "\n",
              "    .colab-df-convert {\n",
              "      background-color: #E8F0FE;\n",
              "      border: none;\n",
              "      border-radius: 50%;\n",
              "      cursor: pointer;\n",
              "      display: none;\n",
              "      fill: #1967D2;\n",
              "      height: 32px;\n",
              "      padding: 0 0 0 0;\n",
              "      width: 32px;\n",
              "    }\n",
              "\n",
              "    .colab-df-convert:hover {\n",
              "      background-color: #E2EBFA;\n",
              "      box-shadow: 0px 1px 2px rgba(60, 64, 67, 0.3), 0px 1px 3px 1px rgba(60, 64, 67, 0.15);\n",
              "      fill: #174EA6;\n",
              "    }\n",
              "\n",
              "    [theme=dark] .colab-df-convert {\n",
              "      background-color: #3B4455;\n",
              "      fill: #D2E3FC;\n",
              "    }\n",
              "\n",
              "    [theme=dark] .colab-df-convert:hover {\n",
              "      background-color: #434B5C;\n",
              "      box-shadow: 0px 1px 3px 1px rgba(0, 0, 0, 0.15);\n",
              "      filter: drop-shadow(0px 1px 2px rgba(0, 0, 0, 0.3));\n",
              "      fill: #FFFFFF;\n",
              "    }\n",
              "  </style>\n",
              "\n",
              "      <script>\n",
              "        const buttonEl =\n",
              "          document.querySelector('#df-7f6e7b99-de89-4b3b-96f3-24c9740c15ce button.colab-df-convert');\n",
              "        buttonEl.style.display =\n",
              "          google.colab.kernel.accessAllowed ? 'block' : 'none';\n",
              "\n",
              "        async function convertToInteractive(key) {\n",
              "          const element = document.querySelector('#df-7f6e7b99-de89-4b3b-96f3-24c9740c15ce');\n",
              "          const dataTable =\n",
              "            await google.colab.kernel.invokeFunction('convertToInteractive',\n",
              "                                                     [key], {});\n",
              "          if (!dataTable) return;\n",
              "\n",
              "          const docLinkHtml = 'Like what you see? Visit the ' +\n",
              "            '<a target=\"_blank\" href=https://colab.research.google.com/notebooks/data_table.ipynb>data table notebook</a>'\n",
              "            + ' to learn more about interactive tables.';\n",
              "          element.innerHTML = '';\n",
              "          dataTable['output_type'] = 'display_data';\n",
              "          await google.colab.output.renderOutput(dataTable, element);\n",
              "          const docLink = document.createElement('div');\n",
              "          docLink.innerHTML = docLinkHtml;\n",
              "          element.appendChild(docLink);\n",
              "        }\n",
              "      </script>\n",
              "    </div>\n",
              "  </div>\n",
              "  "
            ]
          },
          "metadata": {},
          "execution_count": 52
        }
      ],
      "source": [
        "df3"
      ]
    },
    {
      "cell_type": "code",
      "source": [
        "df3.to_csv(os.path.join('/content/drive/MyDrive/code/python/projects/ADL/ADL_(IM5062)/111ntu-homework2','ans8_8.csv'),index=False) #save to file"
      ],
      "metadata": {
        "id": "Lioxvh7JffD0"
      },
      "execution_count": 53,
      "outputs": []
    },
    {
      "cell_type": "code",
      "execution_count": 54,
      "metadata": {
        "id": "iBKp_ePaymps"
      },
      "outputs": [],
      "source": [
        "df4 = pd.read_csv('/content/drive/MyDrive/code/python/projects/ADL/ADL_(IM5062)/111ntu-homework2/ans8_8.csv')"
      ]
    },
    {
      "cell_type": "code",
      "execution_count": 55,
      "metadata": {
        "id": "WzDuvVdgymsI",
        "colab": {
          "base_uri": "https://localhost:8080/",
          "height": 424
        },
        "outputId": "498b2b8d-0465-469e-ae85-faf5fe9e23df"
      },
      "outputs": [
        {
          "output_type": "execute_result",
          "data": {
            "text/plain": [
              "      INDEX    PM2.5-1    PM2.5-2\n",
              "0         1  77.474300  63.128574\n",
              "1         2  81.712450  66.483420\n",
              "2         3  78.504320  63.875706\n",
              "3         4  62.528880  51.736996\n",
              "4         5  53.446686  44.884950\n",
              "...     ...        ...        ...\n",
              "8755   8756  70.968780  56.857480\n",
              "8756   8757  68.695305  55.251698\n",
              "8757   8758  61.530003  50.178190\n",
              "8758   8759  57.618420  46.948994\n",
              "8759   8760  50.367200  42.018570\n",
              "\n",
              "[8760 rows x 3 columns]"
            ],
            "text/html": [
              "\n",
              "  <div id=\"df-a08e250a-6e8f-4f0a-9a09-c9bd03b2bb13\">\n",
              "    <div class=\"colab-df-container\">\n",
              "      <div>\n",
              "<style scoped>\n",
              "    .dataframe tbody tr th:only-of-type {\n",
              "        vertical-align: middle;\n",
              "    }\n",
              "\n",
              "    .dataframe tbody tr th {\n",
              "        vertical-align: top;\n",
              "    }\n",
              "\n",
              "    .dataframe thead th {\n",
              "        text-align: right;\n",
              "    }\n",
              "</style>\n",
              "<table border=\"1\" class=\"dataframe\">\n",
              "  <thead>\n",
              "    <tr style=\"text-align: right;\">\n",
              "      <th></th>\n",
              "      <th>INDEX</th>\n",
              "      <th>PM2.5-1</th>\n",
              "      <th>PM2.5-2</th>\n",
              "    </tr>\n",
              "  </thead>\n",
              "  <tbody>\n",
              "    <tr>\n",
              "      <th>0</th>\n",
              "      <td>1</td>\n",
              "      <td>77.474300</td>\n",
              "      <td>63.128574</td>\n",
              "    </tr>\n",
              "    <tr>\n",
              "      <th>1</th>\n",
              "      <td>2</td>\n",
              "      <td>81.712450</td>\n",
              "      <td>66.483420</td>\n",
              "    </tr>\n",
              "    <tr>\n",
              "      <th>2</th>\n",
              "      <td>3</td>\n",
              "      <td>78.504320</td>\n",
              "      <td>63.875706</td>\n",
              "    </tr>\n",
              "    <tr>\n",
              "      <th>3</th>\n",
              "      <td>4</td>\n",
              "      <td>62.528880</td>\n",
              "      <td>51.736996</td>\n",
              "    </tr>\n",
              "    <tr>\n",
              "      <th>4</th>\n",
              "      <td>5</td>\n",
              "      <td>53.446686</td>\n",
              "      <td>44.884950</td>\n",
              "    </tr>\n",
              "    <tr>\n",
              "      <th>...</th>\n",
              "      <td>...</td>\n",
              "      <td>...</td>\n",
              "      <td>...</td>\n",
              "    </tr>\n",
              "    <tr>\n",
              "      <th>8755</th>\n",
              "      <td>8756</td>\n",
              "      <td>70.968780</td>\n",
              "      <td>56.857480</td>\n",
              "    </tr>\n",
              "    <tr>\n",
              "      <th>8756</th>\n",
              "      <td>8757</td>\n",
              "      <td>68.695305</td>\n",
              "      <td>55.251698</td>\n",
              "    </tr>\n",
              "    <tr>\n",
              "      <th>8757</th>\n",
              "      <td>8758</td>\n",
              "      <td>61.530003</td>\n",
              "      <td>50.178190</td>\n",
              "    </tr>\n",
              "    <tr>\n",
              "      <th>8758</th>\n",
              "      <td>8759</td>\n",
              "      <td>57.618420</td>\n",
              "      <td>46.948994</td>\n",
              "    </tr>\n",
              "    <tr>\n",
              "      <th>8759</th>\n",
              "      <td>8760</td>\n",
              "      <td>50.367200</td>\n",
              "      <td>42.018570</td>\n",
              "    </tr>\n",
              "  </tbody>\n",
              "</table>\n",
              "<p>8760 rows × 3 columns</p>\n",
              "</div>\n",
              "      <button class=\"colab-df-convert\" onclick=\"convertToInteractive('df-a08e250a-6e8f-4f0a-9a09-c9bd03b2bb13')\"\n",
              "              title=\"Convert this dataframe to an interactive table.\"\n",
              "              style=\"display:none;\">\n",
              "        \n",
              "  <svg xmlns=\"http://www.w3.org/2000/svg\" height=\"24px\"viewBox=\"0 0 24 24\"\n",
              "       width=\"24px\">\n",
              "    <path d=\"M0 0h24v24H0V0z\" fill=\"none\"/>\n",
              "    <path d=\"M18.56 5.44l.94 2.06.94-2.06 2.06-.94-2.06-.94-.94-2.06-.94 2.06-2.06.94zm-11 1L8.5 8.5l.94-2.06 2.06-.94-2.06-.94L8.5 2.5l-.94 2.06-2.06.94zm10 10l.94 2.06.94-2.06 2.06-.94-2.06-.94-.94-2.06-.94 2.06-2.06.94z\"/><path d=\"M17.41 7.96l-1.37-1.37c-.4-.4-.92-.59-1.43-.59-.52 0-1.04.2-1.43.59L10.3 9.45l-7.72 7.72c-.78.78-.78 2.05 0 2.83L4 21.41c.39.39.9.59 1.41.59.51 0 1.02-.2 1.41-.59l7.78-7.78 2.81-2.81c.8-.78.8-2.07 0-2.86zM5.41 20L4 18.59l7.72-7.72 1.47 1.35L5.41 20z\"/>\n",
              "  </svg>\n",
              "      </button>\n",
              "      \n",
              "  <style>\n",
              "    .colab-df-container {\n",
              "      display:flex;\n",
              "      flex-wrap:wrap;\n",
              "      gap: 12px;\n",
              "    }\n",
              "\n",
              "    .colab-df-convert {\n",
              "      background-color: #E8F0FE;\n",
              "      border: none;\n",
              "      border-radius: 50%;\n",
              "      cursor: pointer;\n",
              "      display: none;\n",
              "      fill: #1967D2;\n",
              "      height: 32px;\n",
              "      padding: 0 0 0 0;\n",
              "      width: 32px;\n",
              "    }\n",
              "\n",
              "    .colab-df-convert:hover {\n",
              "      background-color: #E2EBFA;\n",
              "      box-shadow: 0px 1px 2px rgba(60, 64, 67, 0.3), 0px 1px 3px 1px rgba(60, 64, 67, 0.15);\n",
              "      fill: #174EA6;\n",
              "    }\n",
              "\n",
              "    [theme=dark] .colab-df-convert {\n",
              "      background-color: #3B4455;\n",
              "      fill: #D2E3FC;\n",
              "    }\n",
              "\n",
              "    [theme=dark] .colab-df-convert:hover {\n",
              "      background-color: #434B5C;\n",
              "      box-shadow: 0px 1px 3px 1px rgba(0, 0, 0, 0.15);\n",
              "      filter: drop-shadow(0px 1px 2px rgba(0, 0, 0, 0.3));\n",
              "      fill: #FFFFFF;\n",
              "    }\n",
              "  </style>\n",
              "\n",
              "      <script>\n",
              "        const buttonEl =\n",
              "          document.querySelector('#df-a08e250a-6e8f-4f0a-9a09-c9bd03b2bb13 button.colab-df-convert');\n",
              "        buttonEl.style.display =\n",
              "          google.colab.kernel.accessAllowed ? 'block' : 'none';\n",
              "\n",
              "        async function convertToInteractive(key) {\n",
              "          const element = document.querySelector('#df-a08e250a-6e8f-4f0a-9a09-c9bd03b2bb13');\n",
              "          const dataTable =\n",
              "            await google.colab.kernel.invokeFunction('convertToInteractive',\n",
              "                                                     [key], {});\n",
              "          if (!dataTable) return;\n",
              "\n",
              "          const docLinkHtml = 'Like what you see? Visit the ' +\n",
              "            '<a target=\"_blank\" href=https://colab.research.google.com/notebooks/data_table.ipynb>data table notebook</a>'\n",
              "            + ' to learn more about interactive tables.';\n",
              "          element.innerHTML = '';\n",
              "          dataTable['output_type'] = 'display_data';\n",
              "          await google.colab.output.renderOutput(dataTable, element);\n",
              "          const docLink = document.createElement('div');\n",
              "          docLink.innerHTML = docLinkHtml;\n",
              "          element.appendChild(docLink);\n",
              "        }\n",
              "      </script>\n",
              "    </div>\n",
              "  </div>\n",
              "  "
            ]
          },
          "metadata": {},
          "execution_count": 55
        }
      ],
      "source": [
        "df4"
      ]
    },
    {
      "cell_type": "code",
      "source": [],
      "metadata": {
        "id": "xKIBIgj4gO8M"
      },
      "execution_count": 56,
      "outputs": []
    }
  ],
  "metadata": {
    "colab": {
      "collapsed_sections": [],
      "provenance": []
    },
    "kernelspec": {
      "display_name": "Python 3",
      "name": "python3"
    },
    "language_info": {
      "name": "python"
    }
  },
  "nbformat": 4,
  "nbformat_minor": 0
}